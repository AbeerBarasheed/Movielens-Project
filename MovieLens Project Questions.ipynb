{
 "cells": [
  {
   "cell_type": "markdown",
   "metadata": {},
   "source": [
    "### Project - MovieLens Data Analysis\n",
    "\n",
    "The GroupLens Research Project is a research group in the Department of Computer Science and Engineering at the University of Minnesota. The data is widely used for collaborative filtering and other filtering solutions. However, we will be using this data to act as a means to demonstrate our skill in using Python to “play” with data.\n",
    "\n",
    "#### Domain \n",
    "Internet and Entertainment\n",
    "\n",
    "**Note that the project will need you to apply the concepts of groupby and merging extensively.**"
   ]
  },
  {
   "cell_type": "code",
   "execution_count": 109,
   "metadata": {},
   "outputs": [],
   "source": [
    "import numpy as np\n",
    "import pandas as pd\n",
    "import os\n",
    "import pandas as pd\n",
    "import seaborn as sns   \n",
    "import matplotlib.pyplot as plt\n",
    "sns.set(color_codes=True) # adds a nice background to the graphs\n",
    "%matplotlib inline \n",
    "# tells python to actually display the graphs"
   ]
  },
  {
   "cell_type": "markdown",
   "metadata": {},
   "source": [
    "#### 1. Import the necessary packages - 2.5 marks"
   ]
  },
  {
   "cell_type": "code",
   "execution_count": 110,
   "metadata": {},
   "outputs": [
    {
     "name": "stdout",
     "output_type": "stream",
     "text": [
      "Data : \n",
      "   user id  movie id  rating  timestamp\n",
      "0      196       242       3  881250949\n",
      "1      186       302       3  891717742\n",
      "2       22       377       1  878887116\n"
     ]
    }
   ],
   "source": [
    "Data = pd.read_csv('Data.csv')\n",
    "print('Data : ')\n",
    "print(Data.head(3))"
   ]
  },
  {
   "cell_type": "code",
   "execution_count": 111,
   "metadata": {},
   "outputs": [
    {
     "name": "stdout",
     "output_type": "stream",
     "text": [
      "item : \n",
      "   movie id  movie title release date  unknown  Action  Adventure  Animation  \\\n",
      "0         1   Toy Story   01-Jan-1995        0       0          0          1   \n",
      "1         2   GoldenEye   01-Jan-1995        0       1          1          0   \n",
      "2         3  Four Rooms   01-Jan-1995        0       0          0          0   \n",
      "\n",
      "   Childrens  Comedy  Crime  ...  Fantasy  Film-Noir  Horror  Musical  \\\n",
      "0          1       1      0  ...        0          0       0        0   \n",
      "1          0       0      0  ...        0          0       0        0   \n",
      "2          0       0      0  ...        0          0       0        0   \n",
      "\n",
      "   Mystery  Romance  Sci-Fi  Thriller  War  Western  \n",
      "0        0        0       0         0    0        0  \n",
      "1        0        0       0         1    0        0  \n",
      "2        0        0       0         1    0        0  \n",
      "\n",
      "[3 rows x 22 columns]\n"
     ]
    }
   ],
   "source": [
    "item = pd.read_csv('item.csv')\n",
    "print('item : ')\n",
    "print(item.head(3))"
   ]
  },
  {
   "cell_type": "code",
   "execution_count": 112,
   "metadata": {},
   "outputs": [
    {
     "name": "stdout",
     "output_type": "stream",
     "text": [
      "user : \n",
      "   user id  age gender  occupation zip code\n",
      "0        1   24      M  technician    85711\n",
      "1        2   53      F       other    94043\n",
      "2        3   23      M      writer    32067\n"
     ]
    }
   ],
   "source": [
    "user = pd.read_csv('user.csv')\n",
    "print('user : ')\n",
    "print(user.head(3))"
   ]
  },
  {
   "cell_type": "markdown",
   "metadata": {},
   "source": [
    "#### 2. Read the 3 datasets into dataframes - 2.5 marks"
   ]
  },
  {
   "cell_type": "code",
   "execution_count": 113,
   "metadata": {
    "scrolled": true
   },
   "outputs": [
    {
     "name": "stdout",
     "output_type": "stream",
     "text": [
      "Data information:\n",
      "<class 'pandas.core.frame.DataFrame'>\n",
      "RangeIndex: 100000 entries, 0 to 99999\n",
      "Data columns (total 4 columns):\n",
      " #   Column     Non-Null Count   Dtype\n",
      "---  ------     --------------   -----\n",
      " 0   user id    100000 non-null  int64\n",
      " 1   movie id   100000 non-null  int64\n",
      " 2   rating     100000 non-null  int64\n",
      " 3   timestamp  100000 non-null  int64\n",
      "dtypes: int64(4)\n",
      "memory usage: 3.1 MB\n",
      "\n",
      "Data shape \n",
      " (100000, 4)\n",
      "\n",
      "Data description:\n"
     ]
    },
    {
     "data": {
      "text/html": [
       "<div>\n",
       "<style scoped>\n",
       "    .dataframe tbody tr th:only-of-type {\n",
       "        vertical-align: middle;\n",
       "    }\n",
       "\n",
       "    .dataframe tbody tr th {\n",
       "        vertical-align: top;\n",
       "    }\n",
       "\n",
       "    .dataframe thead th {\n",
       "        text-align: right;\n",
       "    }\n",
       "</style>\n",
       "<table border=\"1\" class=\"dataframe\">\n",
       "  <thead>\n",
       "    <tr style=\"text-align: right;\">\n",
       "      <th></th>\n",
       "      <th>user id</th>\n",
       "      <th>movie id</th>\n",
       "      <th>rating</th>\n",
       "      <th>timestamp</th>\n",
       "    </tr>\n",
       "  </thead>\n",
       "  <tbody>\n",
       "    <tr>\n",
       "      <th>count</th>\n",
       "      <td>100000.00000</td>\n",
       "      <td>100000.000000</td>\n",
       "      <td>100000.000000</td>\n",
       "      <td>1.000000e+05</td>\n",
       "    </tr>\n",
       "    <tr>\n",
       "      <th>mean</th>\n",
       "      <td>462.48475</td>\n",
       "      <td>425.530130</td>\n",
       "      <td>3.529860</td>\n",
       "      <td>8.835289e+08</td>\n",
       "    </tr>\n",
       "    <tr>\n",
       "      <th>std</th>\n",
       "      <td>266.61442</td>\n",
       "      <td>330.798356</td>\n",
       "      <td>1.125674</td>\n",
       "      <td>5.343856e+06</td>\n",
       "    </tr>\n",
       "    <tr>\n",
       "      <th>min</th>\n",
       "      <td>1.00000</td>\n",
       "      <td>1.000000</td>\n",
       "      <td>1.000000</td>\n",
       "      <td>8.747247e+08</td>\n",
       "    </tr>\n",
       "    <tr>\n",
       "      <th>25%</th>\n",
       "      <td>254.00000</td>\n",
       "      <td>175.000000</td>\n",
       "      <td>3.000000</td>\n",
       "      <td>8.794487e+08</td>\n",
       "    </tr>\n",
       "    <tr>\n",
       "      <th>50%</th>\n",
       "      <td>447.00000</td>\n",
       "      <td>322.000000</td>\n",
       "      <td>4.000000</td>\n",
       "      <td>8.828269e+08</td>\n",
       "    </tr>\n",
       "    <tr>\n",
       "      <th>75%</th>\n",
       "      <td>682.00000</td>\n",
       "      <td>631.000000</td>\n",
       "      <td>4.000000</td>\n",
       "      <td>8.882600e+08</td>\n",
       "    </tr>\n",
       "    <tr>\n",
       "      <th>max</th>\n",
       "      <td>943.00000</td>\n",
       "      <td>1682.000000</td>\n",
       "      <td>5.000000</td>\n",
       "      <td>8.932866e+08</td>\n",
       "    </tr>\n",
       "  </tbody>\n",
       "</table>\n",
       "</div>"
      ],
      "text/plain": [
       "            user id       movie id         rating     timestamp\n",
       "count  100000.00000  100000.000000  100000.000000  1.000000e+05\n",
       "mean      462.48475     425.530130       3.529860  8.835289e+08\n",
       "std       266.61442     330.798356       1.125674  5.343856e+06\n",
       "min         1.00000       1.000000       1.000000  8.747247e+08\n",
       "25%       254.00000     175.000000       3.000000  8.794487e+08\n",
       "50%       447.00000     322.000000       4.000000  8.828269e+08\n",
       "75%       682.00000     631.000000       4.000000  8.882600e+08\n",
       "max       943.00000    1682.000000       5.000000  8.932866e+08"
      ]
     },
     "execution_count": 113,
     "metadata": {},
     "output_type": "execute_result"
    }
   ],
   "source": [
    "print('Data information:')\n",
    "Data.info()\n",
    "print('')\n",
    "print('Data shape \\n',Data.shape)\n",
    "print('')\n",
    "print('Data description:')\n",
    "Data.describe()"
   ]
  },
  {
   "cell_type": "code",
   "execution_count": 114,
   "metadata": {},
   "outputs": [],
   "source": [
    "#print(Data['user id'].count())\n",
    "#print(Data['movie id'].count())\n",
    "#print(Data['rating'].count())\n",
    "#print(Data['timestamp'].count())\n",
    "#print(Data.columns) print the list of the colums\n",
    "#print(Data.shape[0]) print the number of rows from the shape"
   ]
  },
  {
   "cell_type": "code",
   "execution_count": 115,
   "metadata": {},
   "outputs": [
    {
     "name": "stdout",
     "output_type": "stream",
     "text": [
      "Final Total_missing_Data 0.0\n"
     ]
    }
   ],
   "source": [
    "Total_missing_Data = 0.0\n",
    "#start with 0.0 as a default#\n",
    "for col in Data.columns:##Iterate over all coloums in the Data file##\n",
    "    Missing_Data = Data.shape[0]-Data[col].count()#subtract the counts (avialable data in each col) from the total number of rows\n",
    "    Total_missing_Data =Total_missing_Data + Missing_Data#Add all the results and reset\n",
    "    #print('number of missing values in Data: ',col, 'is: ', Missing_Data)\n",
    "    #print('Total_missing_Data',Total_missing_Data)\n",
    "print('Final Total_missing_Data',Total_missing_Data)"
   ]
  },
  {
   "cell_type": "code",
   "execution_count": 116,
   "metadata": {},
   "outputs": [
    {
     "name": "stdout",
     "output_type": "stream",
     "text": [
      "For the user id in Data: Are there any missing values of standard type NAN\n",
      "       value  Missing?\n",
      "0        196     False\n",
      "1        186     False\n",
      "2         22     False\n",
      "3        244     False\n",
      "4        166     False\n",
      "...      ...       ...\n",
      "99995    880     False\n",
      "99996    716     False\n",
      "99997    276     False\n",
      "99998     13     False\n",
      "99999     12     False\n",
      "\n",
      "[100000 rows x 2 columns]\n",
      "\n",
      "For the movie id in Data: Are there any missing values of standard type NAN\n",
      "       value  Missing?\n",
      "0        242     False\n",
      "1        302     False\n",
      "2        377     False\n",
      "3         51     False\n",
      "4        346     False\n",
      "...      ...       ...\n",
      "99995    476     False\n",
      "99996    204     False\n",
      "99997   1090     False\n",
      "99998    225     False\n",
      "99999    203     False\n",
      "\n",
      "[100000 rows x 2 columns]\n",
      "\n",
      "For the rating in Data: Are there any missing values of standard type NAN\n",
      "       value  Missing?\n",
      "0          3     False\n",
      "1          3     False\n",
      "2          1     False\n",
      "3          2     False\n",
      "4          1     False\n",
      "...      ...       ...\n",
      "99995      3     False\n",
      "99996      5     False\n",
      "99997      1     False\n",
      "99998      2     False\n",
      "99999      3     False\n",
      "\n",
      "[100000 rows x 2 columns]\n",
      "\n",
      "For the timestamp in Data: Are there any missing values of standard type NAN\n",
      "           value  Missing?\n",
      "0      881250949     False\n",
      "1      891717742     False\n",
      "2      878887116     False\n",
      "3      880606923     False\n",
      "4      886397596     False\n",
      "...          ...       ...\n",
      "99995  880175444     False\n",
      "99996  879795543     False\n",
      "99997  874795795     False\n",
      "99998  882399156     False\n",
      "99999  879959583     False\n",
      "\n",
      "[100000 rows x 2 columns]\n",
      "\n"
     ]
    }
   ],
   "source": [
    "###OR###\n",
    "for col in Data.columns:\n",
    "    print('For the',col,'in Data: Are there any missing values of standard type NAN')\n",
    "    print(pd.DataFrame({'value' : Data[col], 'Missing?' : Data[col].isnull()}))\n",
    "    print('')"
   ]
  },
  {
   "cell_type": "code",
   "execution_count": 117,
   "metadata": {},
   "outputs": [
    {
     "name": "stdout",
     "output_type": "stream",
     "text": [
      "item information:\n",
      "<class 'pandas.core.frame.DataFrame'>\n",
      "RangeIndex: 1681 entries, 0 to 1680\n",
      "Data columns (total 22 columns):\n",
      " #   Column        Non-Null Count  Dtype \n",
      "---  ------        --------------  ----- \n",
      " 0   movie id      1681 non-null   int64 \n",
      " 1   movie title   1681 non-null   object\n",
      " 2   release date  1681 non-null   object\n",
      " 3   unknown       1681 non-null   int64 \n",
      " 4   Action        1681 non-null   int64 \n",
      " 5   Adventure     1681 non-null   int64 \n",
      " 6   Animation     1681 non-null   int64 \n",
      " 7   Childrens     1681 non-null   int64 \n",
      " 8   Comedy        1681 non-null   int64 \n",
      " 9   Crime         1681 non-null   int64 \n",
      " 10  Documentary   1681 non-null   int64 \n",
      " 11  Drama         1681 non-null   int64 \n",
      " 12  Fantasy       1681 non-null   int64 \n",
      " 13  Film-Noir     1681 non-null   int64 \n",
      " 14  Horror        1681 non-null   int64 \n",
      " 15  Musical       1681 non-null   int64 \n",
      " 16  Mystery       1681 non-null   int64 \n",
      " 17  Romance       1681 non-null   int64 \n",
      " 18  Sci-Fi        1681 non-null   int64 \n",
      " 19  Thriller      1681 non-null   int64 \n",
      " 20  War           1681 non-null   int64 \n",
      " 21  Western       1681 non-null   int64 \n",
      "dtypes: int64(20), object(2)\n",
      "memory usage: 289.0+ KB\n",
      "\n",
      "item shape \n",
      " (1681, 22)\n",
      "\n",
      "item description:\n"
     ]
    },
    {
     "data": {
      "text/html": [
       "<div>\n",
       "<style scoped>\n",
       "    .dataframe tbody tr th:only-of-type {\n",
       "        vertical-align: middle;\n",
       "    }\n",
       "\n",
       "    .dataframe tbody tr th {\n",
       "        vertical-align: top;\n",
       "    }\n",
       "\n",
       "    .dataframe thead th {\n",
       "        text-align: right;\n",
       "    }\n",
       "</style>\n",
       "<table border=\"1\" class=\"dataframe\">\n",
       "  <thead>\n",
       "    <tr style=\"text-align: right;\">\n",
       "      <th></th>\n",
       "      <th>movie id</th>\n",
       "      <th>unknown</th>\n",
       "      <th>Action</th>\n",
       "      <th>Adventure</th>\n",
       "      <th>Animation</th>\n",
       "      <th>Childrens</th>\n",
       "      <th>Comedy</th>\n",
       "      <th>Crime</th>\n",
       "      <th>Documentary</th>\n",
       "      <th>Drama</th>\n",
       "      <th>Fantasy</th>\n",
       "      <th>Film-Noir</th>\n",
       "      <th>Horror</th>\n",
       "      <th>Musical</th>\n",
       "      <th>Mystery</th>\n",
       "      <th>Romance</th>\n",
       "      <th>Sci-Fi</th>\n",
       "      <th>Thriller</th>\n",
       "      <th>War</th>\n",
       "      <th>Western</th>\n",
       "    </tr>\n",
       "  </thead>\n",
       "  <tbody>\n",
       "    <tr>\n",
       "      <th>count</th>\n",
       "      <td>1681.000000</td>\n",
       "      <td>1681.000000</td>\n",
       "      <td>1681.000000</td>\n",
       "      <td>1681.000000</td>\n",
       "      <td>1681.000000</td>\n",
       "      <td>1681.000000</td>\n",
       "      <td>1681.000000</td>\n",
       "      <td>1681.000000</td>\n",
       "      <td>1681.000000</td>\n",
       "      <td>1681.000000</td>\n",
       "      <td>1681.000000</td>\n",
       "      <td>1681.000000</td>\n",
       "      <td>1681.000000</td>\n",
       "      <td>1681.000000</td>\n",
       "      <td>1681.000000</td>\n",
       "      <td>1681.000000</td>\n",
       "      <td>1681.000000</td>\n",
       "      <td>1681.000000</td>\n",
       "      <td>1681.000000</td>\n",
       "      <td>1681.000000</td>\n",
       "    </tr>\n",
       "    <tr>\n",
       "      <th>mean</th>\n",
       "      <td>841.841761</td>\n",
       "      <td>0.000595</td>\n",
       "      <td>0.149316</td>\n",
       "      <td>0.080309</td>\n",
       "      <td>0.024985</td>\n",
       "      <td>0.072576</td>\n",
       "      <td>0.300416</td>\n",
       "      <td>0.064842</td>\n",
       "      <td>0.029744</td>\n",
       "      <td>0.431291</td>\n",
       "      <td>0.013087</td>\n",
       "      <td>0.014277</td>\n",
       "      <td>0.054729</td>\n",
       "      <td>0.033314</td>\n",
       "      <td>0.036288</td>\n",
       "      <td>0.146936</td>\n",
       "      <td>0.060083</td>\n",
       "      <td>0.149316</td>\n",
       "      <td>0.042237</td>\n",
       "      <td>0.016062</td>\n",
       "    </tr>\n",
       "    <tr>\n",
       "      <th>std</th>\n",
       "      <td>485.638077</td>\n",
       "      <td>0.024390</td>\n",
       "      <td>0.356506</td>\n",
       "      <td>0.271852</td>\n",
       "      <td>0.156126</td>\n",
       "      <td>0.259516</td>\n",
       "      <td>0.458576</td>\n",
       "      <td>0.246321</td>\n",
       "      <td>0.169931</td>\n",
       "      <td>0.495404</td>\n",
       "      <td>0.113683</td>\n",
       "      <td>0.118667</td>\n",
       "      <td>0.227519</td>\n",
       "      <td>0.179507</td>\n",
       "      <td>0.187061</td>\n",
       "      <td>0.354148</td>\n",
       "      <td>0.237712</td>\n",
       "      <td>0.356506</td>\n",
       "      <td>0.201189</td>\n",
       "      <td>0.125751</td>\n",
       "    </tr>\n",
       "    <tr>\n",
       "      <th>min</th>\n",
       "      <td>1.000000</td>\n",
       "      <td>0.000000</td>\n",
       "      <td>0.000000</td>\n",
       "      <td>0.000000</td>\n",
       "      <td>0.000000</td>\n",
       "      <td>0.000000</td>\n",
       "      <td>0.000000</td>\n",
       "      <td>0.000000</td>\n",
       "      <td>0.000000</td>\n",
       "      <td>0.000000</td>\n",
       "      <td>0.000000</td>\n",
       "      <td>0.000000</td>\n",
       "      <td>0.000000</td>\n",
       "      <td>0.000000</td>\n",
       "      <td>0.000000</td>\n",
       "      <td>0.000000</td>\n",
       "      <td>0.000000</td>\n",
       "      <td>0.000000</td>\n",
       "      <td>0.000000</td>\n",
       "      <td>0.000000</td>\n",
       "    </tr>\n",
       "    <tr>\n",
       "      <th>25%</th>\n",
       "      <td>422.000000</td>\n",
       "      <td>0.000000</td>\n",
       "      <td>0.000000</td>\n",
       "      <td>0.000000</td>\n",
       "      <td>0.000000</td>\n",
       "      <td>0.000000</td>\n",
       "      <td>0.000000</td>\n",
       "      <td>0.000000</td>\n",
       "      <td>0.000000</td>\n",
       "      <td>0.000000</td>\n",
       "      <td>0.000000</td>\n",
       "      <td>0.000000</td>\n",
       "      <td>0.000000</td>\n",
       "      <td>0.000000</td>\n",
       "      <td>0.000000</td>\n",
       "      <td>0.000000</td>\n",
       "      <td>0.000000</td>\n",
       "      <td>0.000000</td>\n",
       "      <td>0.000000</td>\n",
       "      <td>0.000000</td>\n",
       "    </tr>\n",
       "    <tr>\n",
       "      <th>50%</th>\n",
       "      <td>842.000000</td>\n",
       "      <td>0.000000</td>\n",
       "      <td>0.000000</td>\n",
       "      <td>0.000000</td>\n",
       "      <td>0.000000</td>\n",
       "      <td>0.000000</td>\n",
       "      <td>0.000000</td>\n",
       "      <td>0.000000</td>\n",
       "      <td>0.000000</td>\n",
       "      <td>0.000000</td>\n",
       "      <td>0.000000</td>\n",
       "      <td>0.000000</td>\n",
       "      <td>0.000000</td>\n",
       "      <td>0.000000</td>\n",
       "      <td>0.000000</td>\n",
       "      <td>0.000000</td>\n",
       "      <td>0.000000</td>\n",
       "      <td>0.000000</td>\n",
       "      <td>0.000000</td>\n",
       "      <td>0.000000</td>\n",
       "    </tr>\n",
       "    <tr>\n",
       "      <th>75%</th>\n",
       "      <td>1262.000000</td>\n",
       "      <td>0.000000</td>\n",
       "      <td>0.000000</td>\n",
       "      <td>0.000000</td>\n",
       "      <td>0.000000</td>\n",
       "      <td>0.000000</td>\n",
       "      <td>1.000000</td>\n",
       "      <td>0.000000</td>\n",
       "      <td>0.000000</td>\n",
       "      <td>1.000000</td>\n",
       "      <td>0.000000</td>\n",
       "      <td>0.000000</td>\n",
       "      <td>0.000000</td>\n",
       "      <td>0.000000</td>\n",
       "      <td>0.000000</td>\n",
       "      <td>0.000000</td>\n",
       "      <td>0.000000</td>\n",
       "      <td>0.000000</td>\n",
       "      <td>0.000000</td>\n",
       "      <td>0.000000</td>\n",
       "    </tr>\n",
       "    <tr>\n",
       "      <th>max</th>\n",
       "      <td>1682.000000</td>\n",
       "      <td>1.000000</td>\n",
       "      <td>1.000000</td>\n",
       "      <td>1.000000</td>\n",
       "      <td>1.000000</td>\n",
       "      <td>1.000000</td>\n",
       "      <td>1.000000</td>\n",
       "      <td>1.000000</td>\n",
       "      <td>1.000000</td>\n",
       "      <td>1.000000</td>\n",
       "      <td>1.000000</td>\n",
       "      <td>1.000000</td>\n",
       "      <td>1.000000</td>\n",
       "      <td>1.000000</td>\n",
       "      <td>1.000000</td>\n",
       "      <td>1.000000</td>\n",
       "      <td>1.000000</td>\n",
       "      <td>1.000000</td>\n",
       "      <td>1.000000</td>\n",
       "      <td>1.000000</td>\n",
       "    </tr>\n",
       "  </tbody>\n",
       "</table>\n",
       "</div>"
      ],
      "text/plain": [
       "          movie id      unknown       Action    Adventure    Animation  \\\n",
       "count  1681.000000  1681.000000  1681.000000  1681.000000  1681.000000   \n",
       "mean    841.841761     0.000595     0.149316     0.080309     0.024985   \n",
       "std     485.638077     0.024390     0.356506     0.271852     0.156126   \n",
       "min       1.000000     0.000000     0.000000     0.000000     0.000000   \n",
       "25%     422.000000     0.000000     0.000000     0.000000     0.000000   \n",
       "50%     842.000000     0.000000     0.000000     0.000000     0.000000   \n",
       "75%    1262.000000     0.000000     0.000000     0.000000     0.000000   \n",
       "max    1682.000000     1.000000     1.000000     1.000000     1.000000   \n",
       "\n",
       "         Childrens       Comedy        Crime  Documentary        Drama  \\\n",
       "count  1681.000000  1681.000000  1681.000000  1681.000000  1681.000000   \n",
       "mean      0.072576     0.300416     0.064842     0.029744     0.431291   \n",
       "std       0.259516     0.458576     0.246321     0.169931     0.495404   \n",
       "min       0.000000     0.000000     0.000000     0.000000     0.000000   \n",
       "25%       0.000000     0.000000     0.000000     0.000000     0.000000   \n",
       "50%       0.000000     0.000000     0.000000     0.000000     0.000000   \n",
       "75%       0.000000     1.000000     0.000000     0.000000     1.000000   \n",
       "max       1.000000     1.000000     1.000000     1.000000     1.000000   \n",
       "\n",
       "           Fantasy    Film-Noir       Horror      Musical      Mystery  \\\n",
       "count  1681.000000  1681.000000  1681.000000  1681.000000  1681.000000   \n",
       "mean      0.013087     0.014277     0.054729     0.033314     0.036288   \n",
       "std       0.113683     0.118667     0.227519     0.179507     0.187061   \n",
       "min       0.000000     0.000000     0.000000     0.000000     0.000000   \n",
       "25%       0.000000     0.000000     0.000000     0.000000     0.000000   \n",
       "50%       0.000000     0.000000     0.000000     0.000000     0.000000   \n",
       "75%       0.000000     0.000000     0.000000     0.000000     0.000000   \n",
       "max       1.000000     1.000000     1.000000     1.000000     1.000000   \n",
       "\n",
       "           Romance       Sci-Fi     Thriller          War      Western  \n",
       "count  1681.000000  1681.000000  1681.000000  1681.000000  1681.000000  \n",
       "mean      0.146936     0.060083     0.149316     0.042237     0.016062  \n",
       "std       0.354148     0.237712     0.356506     0.201189     0.125751  \n",
       "min       0.000000     0.000000     0.000000     0.000000     0.000000  \n",
       "25%       0.000000     0.000000     0.000000     0.000000     0.000000  \n",
       "50%       0.000000     0.000000     0.000000     0.000000     0.000000  \n",
       "75%       0.000000     0.000000     0.000000     0.000000     0.000000  \n",
       "max       1.000000     1.000000     1.000000     1.000000     1.000000  "
      ]
     },
     "execution_count": 117,
     "metadata": {},
     "output_type": "execute_result"
    }
   ],
   "source": [
    "print('item information:')\n",
    "item.info()\n",
    "print('')\n",
    "print('item shape \\n',item.shape)\n",
    "print('')\n",
    "print('item description:')\n",
    "item.describe()"
   ]
  },
  {
   "cell_type": "code",
   "execution_count": 118,
   "metadata": {},
   "outputs": [
    {
     "name": "stdout",
     "output_type": "stream",
     "text": [
      "Total_missing_item 0.0\n"
     ]
    }
   ],
   "source": [
    "for col in item.columns:\n",
    "    #print(col)\n",
    "    Total_missing_item = 0.0\n",
    "    Missing_item = item.shape[0]-item[col].count()\n",
    "    Total_missing_item = Total_missing_item + Missing_item\n",
    "    #print('number of missing values in item: ',col, 'is: ', Missing_item)\n",
    "print('Total_missing_item',Total_missing_item)    "
   ]
  },
  {
   "cell_type": "code",
   "execution_count": 119,
   "metadata": {},
   "outputs": [
    {
     "name": "stdout",
     "output_type": "stream",
     "text": [
      "For the movie id in item: Are there any missing values of standard type NAN\n",
      "      value  Missing?\n",
      "0         1     False\n",
      "1         2     False\n",
      "2         3     False\n",
      "3         4     False\n",
      "4         5     False\n",
      "...     ...       ...\n",
      "1676   1678     False\n",
      "1677   1679     False\n",
      "1678   1680     False\n",
      "1679   1681     False\n",
      "1680   1682     False\n",
      "\n",
      "[1681 rows x 2 columns]\n",
      "\n",
      "For the movie title in item: Are there any missing values of standard type NAN\n",
      "                                    value  Missing?\n",
      "0                              Toy Story      False\n",
      "1                              GoldenEye      False\n",
      "2                             Four Rooms      False\n",
      "3                             Get Shorty      False\n",
      "4                                Copycat      False\n",
      "...                                   ...       ...\n",
      "1676                          Mat' i syn      False\n",
      "1677                           B. Monkey      False\n",
      "1678                       Sliding Doors      False\n",
      "1679                        You So Crazy      False\n",
      "1680  Scream of Stone (Schrei aus Stein)      False\n",
      "\n",
      "[1681 rows x 2 columns]\n",
      "\n",
      "For the release date in item: Are there any missing values of standard type NAN\n",
      "            value  Missing?\n",
      "0     01-Jan-1995     False\n",
      "1     01-Jan-1995     False\n",
      "2     01-Jan-1995     False\n",
      "3     01-Jan-1995     False\n",
      "4     01-Jan-1995     False\n",
      "...           ...       ...\n",
      "1676  06-Feb-1998     False\n",
      "1677  06-Feb-1998     False\n",
      "1678  01-Jan-1998     False\n",
      "1679  01-Jan-1994     False\n",
      "1680  08-Mar-1996     False\n",
      "\n",
      "[1681 rows x 2 columns]\n",
      "\n",
      "For the unknown in item: Are there any missing values of standard type NAN\n",
      "      value  Missing?\n",
      "0         0     False\n",
      "1         0     False\n",
      "2         0     False\n",
      "3         0     False\n",
      "4         0     False\n",
      "...     ...       ...\n",
      "1676      0     False\n",
      "1677      0     False\n",
      "1678      0     False\n",
      "1679      0     False\n",
      "1680      0     False\n",
      "\n",
      "[1681 rows x 2 columns]\n",
      "\n",
      "For the Action in item: Are there any missing values of standard type NAN\n",
      "      value  Missing?\n",
      "0         0     False\n",
      "1         1     False\n",
      "2         0     False\n",
      "3         1     False\n",
      "4         0     False\n",
      "...     ...       ...\n",
      "1676      0     False\n",
      "1677      0     False\n",
      "1678      0     False\n",
      "1679      0     False\n",
      "1680      0     False\n",
      "\n",
      "[1681 rows x 2 columns]\n",
      "\n",
      "For the Adventure in item: Are there any missing values of standard type NAN\n",
      "      value  Missing?\n",
      "0         0     False\n",
      "1         1     False\n",
      "2         0     False\n",
      "3         0     False\n",
      "4         0     False\n",
      "...     ...       ...\n",
      "1676      0     False\n",
      "1677      0     False\n",
      "1678      0     False\n",
      "1679      0     False\n",
      "1680      0     False\n",
      "\n",
      "[1681 rows x 2 columns]\n",
      "\n",
      "For the Animation in item: Are there any missing values of standard type NAN\n",
      "      value  Missing?\n",
      "0         1     False\n",
      "1         0     False\n",
      "2         0     False\n",
      "3         0     False\n",
      "4         0     False\n",
      "...     ...       ...\n",
      "1676      0     False\n",
      "1677      0     False\n",
      "1678      0     False\n",
      "1679      0     False\n",
      "1680      0     False\n",
      "\n",
      "[1681 rows x 2 columns]\n",
      "\n",
      "For the Childrens in item: Are there any missing values of standard type NAN\n",
      "      value  Missing?\n",
      "0         1     False\n",
      "1         0     False\n",
      "2         0     False\n",
      "3         0     False\n",
      "4         0     False\n",
      "...     ...       ...\n",
      "1676      0     False\n",
      "1677      0     False\n",
      "1678      0     False\n",
      "1679      0     False\n",
      "1680      0     False\n",
      "\n",
      "[1681 rows x 2 columns]\n",
      "\n",
      "For the Comedy in item: Are there any missing values of standard type NAN\n",
      "      value  Missing?\n",
      "0         1     False\n",
      "1         0     False\n",
      "2         0     False\n",
      "3         1     False\n",
      "4         0     False\n",
      "...     ...       ...\n",
      "1676      0     False\n",
      "1677      0     False\n",
      "1678      0     False\n",
      "1679      1     False\n",
      "1680      0     False\n",
      "\n",
      "[1681 rows x 2 columns]\n",
      "\n",
      "For the Crime in item: Are there any missing values of standard type NAN\n",
      "      value  Missing?\n",
      "0         0     False\n",
      "1         0     False\n",
      "2         0     False\n",
      "3         0     False\n",
      "4         1     False\n",
      "...     ...       ...\n",
      "1676      0     False\n",
      "1677      0     False\n",
      "1678      0     False\n",
      "1679      0     False\n",
      "1680      0     False\n",
      "\n",
      "[1681 rows x 2 columns]\n",
      "\n",
      "For the Documentary in item: Are there any missing values of standard type NAN\n",
      "      value  Missing?\n",
      "0         0     False\n",
      "1         0     False\n",
      "2         0     False\n",
      "3         0     False\n",
      "4         0     False\n",
      "...     ...       ...\n",
      "1676      0     False\n",
      "1677      0     False\n",
      "1678      0     False\n",
      "1679      0     False\n",
      "1680      0     False\n",
      "\n",
      "[1681 rows x 2 columns]\n",
      "\n",
      "For the Drama in item: Are there any missing values of standard type NAN\n",
      "      value  Missing?\n",
      "0         0     False\n",
      "1         0     False\n",
      "2         0     False\n",
      "3         1     False\n",
      "4         1     False\n",
      "...     ...       ...\n",
      "1676      1     False\n",
      "1677      0     False\n",
      "1678      1     False\n",
      "1679      0     False\n",
      "1680      1     False\n",
      "\n",
      "[1681 rows x 2 columns]\n",
      "\n",
      "For the Fantasy in item: Are there any missing values of standard type NAN\n",
      "      value  Missing?\n",
      "0         0     False\n",
      "1         0     False\n",
      "2         0     False\n",
      "3         0     False\n",
      "4         0     False\n",
      "...     ...       ...\n",
      "1676      0     False\n",
      "1677      0     False\n",
      "1678      0     False\n",
      "1679      0     False\n",
      "1680      0     False\n",
      "\n",
      "[1681 rows x 2 columns]\n",
      "\n",
      "For the Film-Noir in item: Are there any missing values of standard type NAN\n",
      "      value  Missing?\n",
      "0         0     False\n",
      "1         0     False\n",
      "2         0     False\n",
      "3         0     False\n",
      "4         0     False\n",
      "...     ...       ...\n",
      "1676      0     False\n",
      "1677      0     False\n",
      "1678      0     False\n",
      "1679      0     False\n",
      "1680      0     False\n",
      "\n",
      "[1681 rows x 2 columns]\n",
      "\n",
      "For the Horror in item: Are there any missing values of standard type NAN\n",
      "      value  Missing?\n",
      "0         0     False\n",
      "1         0     False\n",
      "2         0     False\n",
      "3         0     False\n",
      "4         0     False\n",
      "...     ...       ...\n",
      "1676      0     False\n",
      "1677      0     False\n",
      "1678      0     False\n",
      "1679      0     False\n",
      "1680      0     False\n",
      "\n",
      "[1681 rows x 2 columns]\n",
      "\n",
      "For the Musical in item: Are there any missing values of standard type NAN\n",
      "      value  Missing?\n",
      "0         0     False\n",
      "1         0     False\n",
      "2         0     False\n",
      "3         0     False\n",
      "4         0     False\n",
      "...     ...       ...\n",
      "1676      0     False\n",
      "1677      0     False\n",
      "1678      0     False\n",
      "1679      0     False\n",
      "1680      0     False\n",
      "\n",
      "[1681 rows x 2 columns]\n",
      "\n",
      "For the Mystery in item: Are there any missing values of standard type NAN\n",
      "      value  Missing?\n",
      "0         0     False\n",
      "1         0     False\n",
      "2         0     False\n",
      "3         0     False\n",
      "4         0     False\n",
      "...     ...       ...\n",
      "1676      0     False\n",
      "1677      0     False\n",
      "1678      0     False\n",
      "1679      0     False\n",
      "1680      0     False\n",
      "\n",
      "[1681 rows x 2 columns]\n",
      "\n",
      "For the Romance in item: Are there any missing values of standard type NAN\n",
      "      value  Missing?\n",
      "0         0     False\n",
      "1         0     False\n",
      "2         0     False\n",
      "3         0     False\n",
      "4         0     False\n",
      "...     ...       ...\n",
      "1676      0     False\n",
      "1677      1     False\n",
      "1678      1     False\n",
      "1679      0     False\n",
      "1680      0     False\n",
      "\n",
      "[1681 rows x 2 columns]\n",
      "\n",
      "For the Sci-Fi in item: Are there any missing values of standard type NAN\n",
      "      value  Missing?\n",
      "0         0     False\n",
      "1         0     False\n",
      "2         0     False\n",
      "3         0     False\n",
      "4         0     False\n",
      "...     ...       ...\n",
      "1676      0     False\n",
      "1677      0     False\n",
      "1678      0     False\n",
      "1679      0     False\n",
      "1680      0     False\n",
      "\n",
      "[1681 rows x 2 columns]\n",
      "\n",
      "For the Thriller in item: Are there any missing values of standard type NAN\n",
      "      value  Missing?\n",
      "0         0     False\n",
      "1         1     False\n",
      "2         1     False\n",
      "3         0     False\n",
      "4         1     False\n",
      "...     ...       ...\n",
      "1676      0     False\n",
      "1677      1     False\n",
      "1678      0     False\n",
      "1679      0     False\n",
      "1680      0     False\n",
      "\n",
      "[1681 rows x 2 columns]\n",
      "\n",
      "For the War in item: Are there any missing values of standard type NAN\n",
      "      value  Missing?\n",
      "0         0     False\n",
      "1         0     False\n",
      "2         0     False\n",
      "3         0     False\n",
      "4         0     False\n",
      "...     ...       ...\n",
      "1676      0     False\n",
      "1677      0     False\n",
      "1678      0     False\n",
      "1679      0     False\n",
      "1680      0     False\n",
      "\n",
      "[1681 rows x 2 columns]\n",
      "\n",
      "For the Western in item: Are there any missing values of standard type NAN\n",
      "      value  Missing?\n",
      "0         0     False\n",
      "1         0     False\n",
      "2         0     False\n",
      "3         0     False\n",
      "4         0     False\n",
      "...     ...       ...\n",
      "1676      0     False\n",
      "1677      0     False\n",
      "1678      0     False\n",
      "1679      0     False\n",
      "1680      0     False\n",
      "\n",
      "[1681 rows x 2 columns]\n",
      "\n"
     ]
    }
   ],
   "source": [
    "for col in item.columns:\n",
    "    print('For the',col,'in item: Are there any missing values of standard type NAN')\n",
    "    print(pd.DataFrame({'value' : item[col], 'Missing?' : item[col].isnull()}))\n",
    "    print('')"
   ]
  },
  {
   "cell_type": "code",
   "execution_count": 120,
   "metadata": {},
   "outputs": [
    {
     "name": "stdout",
     "output_type": "stream",
     "text": [
      "user information:\n",
      "<class 'pandas.core.frame.DataFrame'>\n",
      "RangeIndex: 943 entries, 0 to 942\n",
      "Data columns (total 5 columns):\n",
      " #   Column      Non-Null Count  Dtype \n",
      "---  ------      --------------  ----- \n",
      " 0   user id     943 non-null    int64 \n",
      " 1   age         943 non-null    int64 \n",
      " 2   gender      943 non-null    object\n",
      " 3   occupation  943 non-null    object\n",
      " 4   zip code    943 non-null    object\n",
      "dtypes: int64(2), object(3)\n",
      "memory usage: 37.0+ KB\n",
      "\n",
      "user shape \n",
      " (943, 5)\n",
      "\n",
      "user description:\n"
     ]
    },
    {
     "data": {
      "text/html": [
       "<div>\n",
       "<style scoped>\n",
       "    .dataframe tbody tr th:only-of-type {\n",
       "        vertical-align: middle;\n",
       "    }\n",
       "\n",
       "    .dataframe tbody tr th {\n",
       "        vertical-align: top;\n",
       "    }\n",
       "\n",
       "    .dataframe thead th {\n",
       "        text-align: right;\n",
       "    }\n",
       "</style>\n",
       "<table border=\"1\" class=\"dataframe\">\n",
       "  <thead>\n",
       "    <tr style=\"text-align: right;\">\n",
       "      <th></th>\n",
       "      <th>user id</th>\n",
       "      <th>age</th>\n",
       "    </tr>\n",
       "  </thead>\n",
       "  <tbody>\n",
       "    <tr>\n",
       "      <th>count</th>\n",
       "      <td>943.000000</td>\n",
       "      <td>943.000000</td>\n",
       "    </tr>\n",
       "    <tr>\n",
       "      <th>mean</th>\n",
       "      <td>472.000000</td>\n",
       "      <td>34.051962</td>\n",
       "    </tr>\n",
       "    <tr>\n",
       "      <th>std</th>\n",
       "      <td>272.364951</td>\n",
       "      <td>12.192740</td>\n",
       "    </tr>\n",
       "    <tr>\n",
       "      <th>min</th>\n",
       "      <td>1.000000</td>\n",
       "      <td>7.000000</td>\n",
       "    </tr>\n",
       "    <tr>\n",
       "      <th>25%</th>\n",
       "      <td>236.500000</td>\n",
       "      <td>25.000000</td>\n",
       "    </tr>\n",
       "    <tr>\n",
       "      <th>50%</th>\n",
       "      <td>472.000000</td>\n",
       "      <td>31.000000</td>\n",
       "    </tr>\n",
       "    <tr>\n",
       "      <th>75%</th>\n",
       "      <td>707.500000</td>\n",
       "      <td>43.000000</td>\n",
       "    </tr>\n",
       "    <tr>\n",
       "      <th>max</th>\n",
       "      <td>943.000000</td>\n",
       "      <td>73.000000</td>\n",
       "    </tr>\n",
       "  </tbody>\n",
       "</table>\n",
       "</div>"
      ],
      "text/plain": [
       "          user id         age\n",
       "count  943.000000  943.000000\n",
       "mean   472.000000   34.051962\n",
       "std    272.364951   12.192740\n",
       "min      1.000000    7.000000\n",
       "25%    236.500000   25.000000\n",
       "50%    472.000000   31.000000\n",
       "75%    707.500000   43.000000\n",
       "max    943.000000   73.000000"
      ]
     },
     "execution_count": 120,
     "metadata": {},
     "output_type": "execute_result"
    }
   ],
   "source": [
    "print('user information:')\n",
    "user.info()\n",
    "print('')\n",
    "print('user shape \\n',user.shape)\n",
    "print('')\n",
    "print('user description:')\n",
    "user.describe()"
   ]
  },
  {
   "cell_type": "code",
   "execution_count": 121,
   "metadata": {},
   "outputs": [
    {
     "name": "stdout",
     "output_type": "stream",
     "text": [
      "Total_missing_user 0.0\n"
     ]
    }
   ],
   "source": [
    "for col in user.columns:\n",
    "    Total_missing_user = 0.0\n",
    "    #print(col)\n",
    "    Missing_user = user.shape[0]-user[col].count()\n",
    "    Total_missing_user = Total_missing_user + Missing_user\n",
    "    #print('number of missing values in Data: ',col, 'is: ', Missing_Data)\n",
    "print('Total_missing_user',Total_missing_user)"
   ]
  },
  {
   "cell_type": "code",
   "execution_count": 122,
   "metadata": {},
   "outputs": [
    {
     "name": "stdout",
     "output_type": "stream",
     "text": [
      "For the user id in user: Are there any missing values of standard type NAN\n",
      "     value  Missing?\n",
      "0        1     False\n",
      "1        2     False\n",
      "2        3     False\n",
      "3        4     False\n",
      "4        5     False\n",
      "..     ...       ...\n",
      "938    939     False\n",
      "939    940     False\n",
      "940    941     False\n",
      "941    942     False\n",
      "942    943     False\n",
      "\n",
      "[943 rows x 2 columns]\n",
      "\n",
      "For the age in user: Are there any missing values of standard type NAN\n",
      "     value  Missing?\n",
      "0       24     False\n",
      "1       53     False\n",
      "2       23     False\n",
      "3       24     False\n",
      "4       33     False\n",
      "..     ...       ...\n",
      "938     26     False\n",
      "939     32     False\n",
      "940     20     False\n",
      "941     48     False\n",
      "942     22     False\n",
      "\n",
      "[943 rows x 2 columns]\n",
      "\n",
      "For the gender in user: Are there any missing values of standard type NAN\n",
      "    value  Missing?\n",
      "0       M     False\n",
      "1       F     False\n",
      "2       M     False\n",
      "3       M     False\n",
      "4       F     False\n",
      "..    ...       ...\n",
      "938     F     False\n",
      "939     M     False\n",
      "940     M     False\n",
      "941     F     False\n",
      "942     M     False\n",
      "\n",
      "[943 rows x 2 columns]\n",
      "\n",
      "For the occupation in user: Are there any missing values of standard type NAN\n",
      "             value  Missing?\n",
      "0       technician     False\n",
      "1            other     False\n",
      "2           writer     False\n",
      "3       technician     False\n",
      "4            other     False\n",
      "..             ...       ...\n",
      "938        student     False\n",
      "939  administrator     False\n",
      "940        student     False\n",
      "941      librarian     False\n",
      "942        student     False\n",
      "\n",
      "[943 rows x 2 columns]\n",
      "\n",
      "For the zip code in user: Are there any missing values of standard type NAN\n",
      "     value  Missing?\n",
      "0    85711     False\n",
      "1    94043     False\n",
      "2    32067     False\n",
      "3    43537     False\n",
      "4    15213     False\n",
      "..     ...       ...\n",
      "938  33319     False\n",
      "939  02215     False\n",
      "940  97229     False\n",
      "941  78209     False\n",
      "942  77841     False\n",
      "\n",
      "[943 rows x 2 columns]\n",
      "\n"
     ]
    }
   ],
   "source": [
    "for col in user.columns:\n",
    "    print('For the',col,'in user: Are there any missing values of standard type NAN')\n",
    "    print(pd.DataFrame({'value' : user[col], 'Missing?' : user[col].isnull()}))\n",
    "    print('')"
   ]
  },
  {
   "cell_type": "markdown",
   "metadata": {},
   "source": [
    "#### 3. Apply info, shape, describe, and find the number of missing values in the data - 5 marks"
   ]
  },
  {
   "cell_type": "code",
   "execution_count": 123,
   "metadata": {},
   "outputs": [],
   "source": [
    "#for col in item.columns:\n",
    "    #print(col)\n",
    "#print(item.columns)\n",
    "#print(item.columns[0])\n",
    "#print(len(item.columns))"
   ]
  },
  {
   "cell_type": "code",
   "execution_count": 124,
   "metadata": {},
   "outputs": [
    {
     "name": "stdout",
     "output_type": "stream",
     "text": [
      "Action has  been registered\n",
      "251 times\n",
      "\n",
      "Adventure has  been registered\n",
      "135 times\n",
      "\n",
      "Animation has  been registered\n",
      "42 times\n",
      "\n",
      "Childrens has  been registered\n",
      "122 times\n",
      "\n",
      "Comedy has  been registered\n",
      "505 times\n",
      "\n",
      "Crime has  been registered\n",
      "109 times\n",
      "\n",
      "Documentary has  been registered\n",
      "50 times\n",
      "\n",
      "Drama has  been registered\n",
      "725 times\n",
      "\n",
      "Fantasy has  been registered\n",
      "22 times\n",
      "\n",
      "Film-Noir has  been registered\n",
      "24 times\n",
      "\n",
      "Horror has  been registered\n",
      "92 times\n",
      "\n",
      "Musical has  been registered\n",
      "56 times\n",
      "\n",
      "Mystery has  been registered\n",
      "61 times\n",
      "\n",
      "Romance has  been registered\n",
      "247 times\n",
      "\n",
      "Sci-Fi has  been registered\n",
      "101 times\n",
      "\n",
      "Thriller has  been registered\n",
      "251 times\n",
      "\n",
      "War has  been registered\n",
      "71 times\n",
      "\n",
      "Western has  been registered\n",
      "27 times\n",
      "\n"
     ]
    }
   ],
   "source": [
    "for i in np.arange(4,len(item.columns)):\n",
    "    print(item.columns[i],'has  been registered')\n",
    "    print(item[item.columns[i]].sum(),'times')\n",
    "    print('')"
   ]
  },
  {
   "cell_type": "code",
   "execution_count": 125,
   "metadata": {},
   "outputs": [],
   "source": [
    "# use sum on the default axis"
   ]
  },
  {
   "cell_type": "markdown",
   "metadata": {},
   "source": [
    "#### 4. Find the number of movies per genre using the item data - 5 marks"
   ]
  },
  {
   "cell_type": "markdown",
   "metadata": {},
   "source": [
    "#### 5. Find the movies that have more than one genre - 2.5 marks"
   ]
  },
  {
   "cell_type": "code",
   "execution_count": 126,
   "metadata": {},
   "outputs": [],
   "source": [
    "#print(item.iterrows())\n",
    "#print(item.iloc[0])\n",
    "#print('')\n",
    "#print(item.iloc[[0],[4]])\n",
    "#for i in np.arange(0,2):\n",
    "    #print(item.iloc[i])\n",
    "    #print('')\n",
    "#print(item.sum(axis=1))\n",
    "#print(item.sum(axis=1)[0])  \n",
    "#for i in np.arange(0,2):\n",
    "    #print(item.iloc[[i],[0]])\n",
    "    #print(item.iloc[[i],[1]])\n",
    "    #print(item.sum(axis=1)[i]) \n",
    "    #number=item.sum(axis=1)[i]-item.iloc[[i],[0]]\n",
    "    #print(number)\n",
    "    #print(item.columns)"
   ]
  },
  {
   "cell_type": "code",
   "execution_count": 127,
   "metadata": {},
   "outputs": [
    {
     "name": "stdout",
     "output_type": "stream",
     "text": [
      "Index(['Action', 'Adventure', 'Animation', 'Childrens', 'Comedy', 'Crime',\n",
      "       'Documentary', 'Drama', 'Fantasy', 'Film-Noir', 'Horror', 'Musical',\n",
      "       'Mystery', 'Romance', 'Sci-Fi', 'Thriller', 'War', 'Western'],\n",
      "      dtype='object')\n",
      "0       3\n",
      "1       3\n",
      "2       1\n",
      "3       3\n",
      "4       3\n",
      "       ..\n",
      "1676    1\n",
      "1677    2\n",
      "1678    2\n",
      "1679    1\n",
      "1680    1\n",
      "Length: 1681, dtype: int64\n"
     ]
    }
   ],
   "source": [
    "#hint: use sum on the axis = 1\n",
    "##get a list of the genre##\n",
    "genre_list = item.columns [4:len(item.columns)]\n",
    "print(genre_list)\n",
    "##sum all entries in each row in the range of the genre list created above##\n",
    "print(item[genre_list].sum(axis=1))"
   ]
  },
  {
   "cell_type": "markdown",
   "metadata": {},
   "source": [
    "#### 6. Drop the movie where the genre is unknown - 2.5 marks"
   ]
  },
  {
   "cell_type": "code",
   "execution_count": 128,
   "metadata": {},
   "outputs": [
    {
     "name": "stdout",
     "output_type": "stream",
     "text": [
      "**number of movies with unknown genre is 1\n",
      "\n",
      "**which movie has 1.0 in the unknown genre entry\n",
      "0       False\n",
      "1       False\n",
      "2       False\n",
      "3       False\n",
      "4       False\n",
      "        ...  \n",
      "1676    False\n",
      "1677    False\n",
      "1678    False\n",
      "1679    False\n",
      "1680    False\n",
      "Name: unknown, Length: 1681, dtype: bool\n",
      "\n",
      "**which movie in the whole dataframe has 1.0 entry in the unknown col \n",
      "      movie id    movie title release date  unknown  Action  Adventure  \\\n",
      "1371      1373  Good Morning    4-Feb-1971        1       0          0   \n",
      "\n",
      "      Animation  Childrens  Comedy  Crime  ...  Fantasy  Film-Noir  Horror  \\\n",
      "1371          0          0       0      0  ...        0          0       0   \n",
      "\n",
      "      Musical  Mystery  Romance  Sci-Fi  Thriller  War  Western  \n",
      "1371        0        0        0       0         0    0        0  \n",
      "\n",
      "[1 rows x 22 columns]\n",
      "\n",
      "**Here is the detailed information of the movie that has 1.0 entry in the unknown col\n",
      "movie id                  1372\n",
      "movie title     Stranger, The \n",
      "release date       01-Jan-1994\n",
      "unknown                      0\n",
      "Action                       1\n",
      "Adventure                    0\n",
      "Animation                    0\n",
      "Childrens                    0\n",
      "Comedy                       0\n",
      "Crime                        0\n",
      "Documentary                  0\n",
      "Drama                        0\n",
      "Fantasy                      0\n",
      "Film-Noir                    0\n",
      "Horror                       0\n",
      "Musical                      0\n",
      "Mystery                      0\n",
      "Romance                      0\n",
      "Sci-Fi                       0\n",
      "Thriller                     0\n",
      "War                          0\n",
      "Western                      0\n",
      "Name: 1370, dtype: object\n",
      "\n",
      "**item shape_original (1681, 22)\n",
      "\n",
      "**item_1 shape after dropping the row 1370 (1680, 22)\n"
     ]
    }
   ],
   "source": [
    "##how many movies with an unknow genre\n",
    "print('**number of movies with unknown genre is',item['unknown'].sum())\n",
    "print('')\n",
    "################################################################################\n",
    "print('**which movie has 1.0 in the unknown genre entry')\n",
    "print(item['unknown']>0.0)\n",
    "print('')\n",
    "#################################################################################\n",
    "print('**which movie in the whole dataframe has 1.0 entry in the unknown col ')\n",
    "print(item[item['unknown']>0.0])\n",
    "print('')\n",
    "##################################################################################\n",
    "print('**Here is the detailed information of the movie that has 1.0 entry in the unknown col')\n",
    "print(item.iloc[1370])\n",
    "###################################################################################\n",
    "##drop the row with the index 1370 and rename the new dataframe##\n",
    "item_1 = item.drop(1370,axis=0)\n",
    "print('')\n",
    "###################################################################\n",
    "##Double check the number of rows has decreased by one\n",
    "print('**item shape_original',item.shape)\n",
    "print('')\n",
    "print('**item_1 shape after dropping the row 1370',item_1.shape)"
   ]
  },
  {
   "cell_type": "markdown",
   "metadata": {},
   "source": [
    "### 7. Univariate plots of columns: 'rating', 'Age', 'release year', 'Gender' and 'Occupation' - 10 marks"
   ]
  },
  {
   "cell_type": "code",
   "execution_count": 129,
   "metadata": {},
   "outputs": [],
   "source": [
    "# HINT: use distplot for age and countplot for gender,ratings,occupation.\n",
    "# HINT: Please refer to the below snippet to understand how to get to release year from release date. You can use str.split()\n",
    "# as depicted below\n",
    "# Hint : Use displot without kde for release year or line plot showing year wise count."
   ]
  },
  {
   "cell_type": "code",
   "execution_count": 130,
   "metadata": {},
   "outputs": [
    {
     "name": "stdout",
     "output_type": "stream",
     "text": [
      "brown\n",
      "brown\n",
      "brown\n"
     ]
    }
   ],
   "source": [
    "a = 'My*cat*is*brown'\n",
    "print(a.split('*')[3])\n",
    "\n",
    "#similarly, the release year needs to be taken out from release date\n",
    "\n",
    "#also you can simply slice existing string to get the desired data, if we want to take out the colour of the cat\n",
    "\n",
    "print(a[10:])\n",
    "print(a[-5:])"
   ]
  },
  {
   "cell_type": "code",
   "execution_count": 131,
   "metadata": {},
   "outputs": [
    {
     "name": "stdout",
     "output_type": "stream",
     "text": [
      "Data  : Index(['user id', 'movie id', 'rating', 'timestamp'], dtype='object') \n",
      "\n",
      "item_1  : Index(['movie id', 'movie title', 'release date', 'unknown', 'Action',\n",
      "       'Adventure', 'Animation', 'Childrens', 'Comedy', 'Crime', 'Documentary',\n",
      "       'Drama', 'Fantasy', 'Film-Noir', 'Horror', 'Musical', 'Mystery',\n",
      "       'Romance', 'Sci-Fi', 'Thriller', 'War', 'Western'],\n",
      "      dtype='object') \n",
      "\n",
      "user  : Index(['user id', 'age', 'gender', 'occupation', 'zip code'], dtype='object')\n"
     ]
    }
   ],
   "source": [
    "#your answers here##\n",
    "##lets recall witch variable refer to which dataframe##\n",
    "print('Data  :',Data.columns,'\\n')\n",
    "print('item_1  :',item_1.columns,'\\n')\n",
    "print('user  :',user.columns)"
   ]
  },
  {
   "cell_type": "code",
   "execution_count": 132,
   "metadata": {},
   "outputs": [
    {
     "data": {
      "text/plain": [
       "Index(['user id', 'movie id', 'rating', 'timestamp', 'movie title',\n",
       "       'release date', 'unknown', 'Action', 'Adventure', 'Animation',\n",
       "       'Childrens', 'Comedy', 'Crime', 'Documentary', 'Drama', 'Fantasy',\n",
       "       'Film-Noir', 'Horror', 'Musical', 'Mystery', 'Romance', 'Sci-Fi',\n",
       "       'Thriller', 'War', 'Western'],\n",
       "      dtype='object')"
      ]
     },
     "execution_count": 132,
     "metadata": {},
     "output_type": "execute_result"
    }
   ],
   "source": [
    "##Merge all data frames##\n",
    "### 1### Merge Data and item##\n",
    "Data_item_1=pd.merge(Data,item_1,how='outer')\n",
    "Data_item_1.head()\n",
    "Data_item_1.columns"
   ]
  },
  {
   "cell_type": "code",
   "execution_count": 133,
   "metadata": {},
   "outputs": [
    {
     "data": {
      "text/plain": [
       "Index(['user id', 'movie id', 'rating', 'timestamp', 'movie title',\n",
       "       'release date', 'unknown', 'Action', 'Adventure', 'Animation',\n",
       "       'Childrens', 'Comedy', 'Crime', 'Documentary', 'Drama', 'Fantasy',\n",
       "       'Film-Noir', 'Horror', 'Musical', 'Mystery', 'Romance', 'Sci-Fi',\n",
       "       'Thriller', 'War', 'Western', 'age', 'gender', 'occupation',\n",
       "       'zip code'],\n",
       "      dtype='object')"
      ]
     },
     "execution_count": 133,
     "metadata": {},
     "output_type": "execute_result"
    }
   ],
   "source": [
    "###2###Merge Data_item and users##\n",
    "Data_item_1_user=pd.merge(Data_item_1,user,how='outer')\n",
    "Data_item_1_user.head()\n",
    "Data_item_1_user.columns"
   ]
  },
  {
   "cell_type": "code",
   "execution_count": 134,
   "metadata": {},
   "outputs": [
    {
     "data": {
      "text/html": [
       "<div>\n",
       "<style scoped>\n",
       "    .dataframe tbody tr th:only-of-type {\n",
       "        vertical-align: middle;\n",
       "    }\n",
       "\n",
       "    .dataframe tbody tr th {\n",
       "        vertical-align: top;\n",
       "    }\n",
       "\n",
       "    .dataframe thead th {\n",
       "        text-align: right;\n",
       "    }\n",
       "</style>\n",
       "<table border=\"1\" class=\"dataframe\">\n",
       "  <thead>\n",
       "    <tr style=\"text-align: right;\">\n",
       "      <th></th>\n",
       "      <th>user id</th>\n",
       "      <th>movie id</th>\n",
       "      <th>rating</th>\n",
       "      <th>timestamp</th>\n",
       "      <th>movie title</th>\n",
       "      <th>release date</th>\n",
       "      <th>unknown</th>\n",
       "      <th>Action</th>\n",
       "      <th>Adventure</th>\n",
       "      <th>Animation</th>\n",
       "      <th>...</th>\n",
       "      <th>Mystery</th>\n",
       "      <th>Romance</th>\n",
       "      <th>Sci-Fi</th>\n",
       "      <th>Thriller</th>\n",
       "      <th>War</th>\n",
       "      <th>Western</th>\n",
       "      <th>age</th>\n",
       "      <th>gender</th>\n",
       "      <th>occupation</th>\n",
       "      <th>zip code</th>\n",
       "    </tr>\n",
       "  </thead>\n",
       "  <tbody>\n",
       "    <tr>\n",
       "      <th>0</th>\n",
       "      <td>196</td>\n",
       "      <td>242</td>\n",
       "      <td>3</td>\n",
       "      <td>881250949</td>\n",
       "      <td>Kolya</td>\n",
       "      <td>24-Jan-1997</td>\n",
       "      <td>0.0</td>\n",
       "      <td>0.0</td>\n",
       "      <td>0.0</td>\n",
       "      <td>0.0</td>\n",
       "      <td>...</td>\n",
       "      <td>0.0</td>\n",
       "      <td>0.0</td>\n",
       "      <td>0.0</td>\n",
       "      <td>0.0</td>\n",
       "      <td>0.0</td>\n",
       "      <td>0.0</td>\n",
       "      <td>49</td>\n",
       "      <td>M</td>\n",
       "      <td>writer</td>\n",
       "      <td>55105</td>\n",
       "    </tr>\n",
       "    <tr>\n",
       "      <th>1</th>\n",
       "      <td>196</td>\n",
       "      <td>257</td>\n",
       "      <td>2</td>\n",
       "      <td>881251577</td>\n",
       "      <td>Men in Black</td>\n",
       "      <td>04-Jul-1997</td>\n",
       "      <td>0.0</td>\n",
       "      <td>1.0</td>\n",
       "      <td>1.0</td>\n",
       "      <td>0.0</td>\n",
       "      <td>...</td>\n",
       "      <td>0.0</td>\n",
       "      <td>0.0</td>\n",
       "      <td>1.0</td>\n",
       "      <td>0.0</td>\n",
       "      <td>0.0</td>\n",
       "      <td>0.0</td>\n",
       "      <td>49</td>\n",
       "      <td>M</td>\n",
       "      <td>writer</td>\n",
       "      <td>55105</td>\n",
       "    </tr>\n",
       "    <tr>\n",
       "      <th>2</th>\n",
       "      <td>196</td>\n",
       "      <td>111</td>\n",
       "      <td>4</td>\n",
       "      <td>881251793</td>\n",
       "      <td>Truth About Cats &amp; Dogs, The</td>\n",
       "      <td>26-Apr-1996</td>\n",
       "      <td>0.0</td>\n",
       "      <td>0.0</td>\n",
       "      <td>0.0</td>\n",
       "      <td>0.0</td>\n",
       "      <td>...</td>\n",
       "      <td>0.0</td>\n",
       "      <td>1.0</td>\n",
       "      <td>0.0</td>\n",
       "      <td>0.0</td>\n",
       "      <td>0.0</td>\n",
       "      <td>0.0</td>\n",
       "      <td>49</td>\n",
       "      <td>M</td>\n",
       "      <td>writer</td>\n",
       "      <td>55105</td>\n",
       "    </tr>\n",
       "    <tr>\n",
       "      <th>3</th>\n",
       "      <td>196</td>\n",
       "      <td>25</td>\n",
       "      <td>4</td>\n",
       "      <td>881251955</td>\n",
       "      <td>Birdcage, The</td>\n",
       "      <td>08-Mar-1996</td>\n",
       "      <td>0.0</td>\n",
       "      <td>0.0</td>\n",
       "      <td>0.0</td>\n",
       "      <td>0.0</td>\n",
       "      <td>...</td>\n",
       "      <td>0.0</td>\n",
       "      <td>0.0</td>\n",
       "      <td>0.0</td>\n",
       "      <td>0.0</td>\n",
       "      <td>0.0</td>\n",
       "      <td>0.0</td>\n",
       "      <td>49</td>\n",
       "      <td>M</td>\n",
       "      <td>writer</td>\n",
       "      <td>55105</td>\n",
       "    </tr>\n",
       "    <tr>\n",
       "      <th>4</th>\n",
       "      <td>196</td>\n",
       "      <td>382</td>\n",
       "      <td>4</td>\n",
       "      <td>881251843</td>\n",
       "      <td>Adventures of Priscilla, Queen of the Desert, ...</td>\n",
       "      <td>01-Jan-1994</td>\n",
       "      <td>0.0</td>\n",
       "      <td>0.0</td>\n",
       "      <td>0.0</td>\n",
       "      <td>0.0</td>\n",
       "      <td>...</td>\n",
       "      <td>0.0</td>\n",
       "      <td>0.0</td>\n",
       "      <td>0.0</td>\n",
       "      <td>0.0</td>\n",
       "      <td>0.0</td>\n",
       "      <td>0.0</td>\n",
       "      <td>49</td>\n",
       "      <td>M</td>\n",
       "      <td>writer</td>\n",
       "      <td>55105</td>\n",
       "    </tr>\n",
       "  </tbody>\n",
       "</table>\n",
       "<p>5 rows × 29 columns</p>\n",
       "</div>"
      ],
      "text/plain": [
       "   user id  movie id  rating  timestamp  \\\n",
       "0      196       242       3  881250949   \n",
       "1      196       257       2  881251577   \n",
       "2      196       111       4  881251793   \n",
       "3      196        25       4  881251955   \n",
       "4      196       382       4  881251843   \n",
       "\n",
       "                                         movie title release date  unknown  \\\n",
       "0                                             Kolya   24-Jan-1997      0.0   \n",
       "1                                      Men in Black   04-Jul-1997      0.0   \n",
       "2                      Truth About Cats & Dogs, The   26-Apr-1996      0.0   \n",
       "3                                     Birdcage, The   08-Mar-1996      0.0   \n",
       "4  Adventures of Priscilla, Queen of the Desert, ...  01-Jan-1994      0.0   \n",
       "\n",
       "   Action  Adventure  Animation  ...  Mystery  Romance  Sci-Fi  Thriller  War  \\\n",
       "0     0.0        0.0        0.0  ...      0.0      0.0     0.0       0.0  0.0   \n",
       "1     1.0        1.0        0.0  ...      0.0      0.0     1.0       0.0  0.0   \n",
       "2     0.0        0.0        0.0  ...      0.0      1.0     0.0       0.0  0.0   \n",
       "3     0.0        0.0        0.0  ...      0.0      0.0     0.0       0.0  0.0   \n",
       "4     0.0        0.0        0.0  ...      0.0      0.0     0.0       0.0  0.0   \n",
       "\n",
       "   Western  age  gender  occupation  zip code  \n",
       "0      0.0   49       M      writer     55105  \n",
       "1      0.0   49       M      writer     55105  \n",
       "2      0.0   49       M      writer     55105  \n",
       "3      0.0   49       M      writer     55105  \n",
       "4      0.0   49       M      writer     55105  \n",
       "\n",
       "[5 rows x 29 columns]"
      ]
     },
     "execution_count": 134,
     "metadata": {},
     "output_type": "execute_result"
    }
   ],
   "source": [
    "##Rename the merged dataframes in a simpler way###\n",
    "All_Data=Data_item_1_user\n",
    "All_Data.head()"
   ]
  },
  {
   "cell_type": "code",
   "execution_count": 135,
   "metadata": {},
   "outputs": [
    {
     "data": {
      "text/plain": [
       "(100000, 29)"
      ]
     },
     "execution_count": 135,
     "metadata": {},
     "output_type": "execute_result"
    }
   ],
   "source": [
    "All_Data.shape"
   ]
  },
  {
   "cell_type": "code",
   "execution_count": 136,
   "metadata": {},
   "outputs": [],
   "source": [
    "#sns.distplot(All_Data['rating'], kde=False, rug=True);\n",
    "#plt.xlabel('Rating of the movie')\n",
    "#plt.ylabel('Counts')"
   ]
  },
  {
   "cell_type": "code",
   "execution_count": 137,
   "metadata": {},
   "outputs": [
    {
     "data": {
      "text/plain": [
       "Text(0.5, 1.0, 'Count plot of the Rating of movies')"
      ]
     },
     "execution_count": 137,
     "metadata": {},
     "output_type": "execute_result"
    },
    {
     "data": {
      "image/png": "[encoded data removed]",
      "text/plain": [
       "<Figure size 432x288 with 1 Axes>"
      ]
     },
     "metadata": {
      "needs_background": "light"
     },
     "output_type": "display_data"
    }
   ],
   "source": [
    "sns.countplot(All_Data['rating']);\n",
    "plt.xlabel('Rating of movies')\n",
    "plt.ylabel('Counts')\n",
    "plt.title('Count plot of the Rating of movies')"
   ]
  },
  {
   "cell_type": "code",
   "execution_count": 138,
   "metadata": {},
   "outputs": [
    {
     "data": {
      "text/plain": [
       "Text(0.5, 1.0, 'Distripution plot of the Age of the users')"
      ]
     },
     "execution_count": 138,
     "metadata": {},
     "output_type": "execute_result"
    },
    {
     "data": {
      "image/png": "[encoded data removed]",
      "text/plain": [
       "<Figure size 432x288 with 1 Axes>"
      ]
     },
     "metadata": {
      "needs_background": "light"
     },
     "output_type": "display_data"
    }
   ],
   "source": [
    "sns.distplot(All_Data['age'], kde=False, rug=True);\n",
    "plt.xlabel('Age of the user')\n",
    "plt.ylabel('Counts')\n",
    "plt.title('Distripution plot of the Age of the users')"
   ]
  },
  {
   "cell_type": "code",
   "execution_count": 139,
   "metadata": {},
   "outputs": [
    {
     "name": "stdout",
     "output_type": "stream",
     "text": [
      "0        1997.0\n",
      "1        1997.0\n",
      "2        1996.0\n",
      "3        1996.0\n",
      "4        1994.0\n",
      "          ...  \n",
      "99995    1997.0\n",
      "99996    1997.0\n",
      "99997    1998.0\n",
      "99998    1997.0\n",
      "99999    1997.0\n",
      "Name: year, Length: 100000, dtype: float64\n"
     ]
    },
    {
     "data": {
      "text/plain": [
       "Index(['user id', 'movie id', 'rating', 'timestamp', 'movie title',\n",
       "       'release date', 'unknown', 'Action', 'Adventure', 'Animation',\n",
       "       'Childrens', 'Comedy', 'Crime', 'Documentary', 'Drama', 'Fantasy',\n",
       "       'Film-Noir', 'Horror', 'Musical', 'Mystery', 'Romance', 'Sci-Fi',\n",
       "       'Thriller', 'War', 'Western', 'age', 'gender', 'occupation', 'zip code',\n",
       "       'year'],\n",
       "      dtype='object')"
      ]
     },
     "execution_count": 139,
     "metadata": {},
     "output_type": "execute_result"
    }
   ],
   "source": [
    "All_Data['year']=pd.DatetimeIndex(All_Data['release date']).year\n",
    "print(All_Data['year'])\n",
    "All_Data.shape\n",
    "##All_Data.head()\n",
    "All_Data.columns"
   ]
  },
  {
   "cell_type": "code",
   "execution_count": 140,
   "metadata": {},
   "outputs": [
    {
     "data": {
      "text/plain": [
       "Text(0.5, 1.0, 'Distripution plot of the Year of release')"
      ]
     },
     "execution_count": 140,
     "metadata": {},
     "output_type": "execute_result"
    },
    {
     "data": {
      "image/png": "[encoded data removed]",
      "text/plain": [
       "<Figure size 432x288 with 1 Axes>"
      ]
     },
     "metadata": {
      "needs_background": "light"
     },
     "output_type": "display_data"
    }
   ],
   "source": [
    "sns.distplot(All_Data['year'], kde=False, rug=True);\n",
    "plt.xlabel('Year of release')\n",
    "plt.ylabel('Counts')\n",
    "plt.title('Distripution plot of the Year of release')"
   ]
  },
  {
   "cell_type": "code",
   "execution_count": 141,
   "metadata": {},
   "outputs": [
    {
     "data": {
      "text/plain": [
       "Text(0.5, 1.0, 'Count plot of the Gender of users')"
      ]
     },
     "execution_count": 141,
     "metadata": {},
     "output_type": "execute_result"
    },
    {
     "data": {
      "image/png": "[encoded data removed]",
      "text/plain": [
       "<Figure size 432x288 with 1 Axes>"
      ]
     },
     "metadata": {
      "needs_background": "light"
     },
     "output_type": "display_data"
    }
   ],
   "source": [
    "sns.countplot(All_Data['gender']);\n",
    "plt.xlabel('Gender of users')\n",
    "plt.ylabel('Counts')\n",
    "plt.title('Count plot of the Gender of users')"
   ]
  },
  {
   "cell_type": "code",
   "execution_count": 142,
   "metadata": {},
   "outputs": [
    {
     "data": {
      "text/plain": [
       "Text(0.5, 1.0, 'Count plot of the occupation of users')"
      ]
     },
     "execution_count": 142,
     "metadata": {},
     "output_type": "execute_result"
    },
    {
     "data": {
      "image/png": "[encoded data removed]",
      "text/plain": [
       "<Figure size 1692x576 with 1 Axes>"
      ]
     },
     "metadata": {
      "needs_background": "light"
     },
     "output_type": "display_data"
    }
   ],
   "source": [
    "fig, ax = plt.subplots()\n",
    "fig.set_size_inches(23.5,8)\n",
    "sns.countplot(All_Data['occupation'],ax=ax);\n",
    "plt.xlabel('occupation')\n",
    "plt.ylabel('Counts')\n",
    "plt.title('Count plot of the occupation of users')"
   ]
  },
  {
   "cell_type": "markdown",
   "metadata": {},
   "source": [
    "### 8. Visualize how popularity of genres has changed over the years - 10 marks\n",
    "\n",
    "Note that you need to use the number of releases in a year as a parameter of popularity of a genre"
   ]
  },
  {
   "cell_type": "markdown",
   "metadata": {},
   "source": [
    "Hint \n",
    "\n",
    "1: you need to reach to a data frame where the release year is the index and the genre is the column names (one cell shows the number of release in a year in one genre) or vice versa.\n",
    "Once that is achieved, you can either use univariate plots or can use the heatmap to visualise all the changes over the years \n",
    "in one go. \n",
    "\n",
    "Hint 2: Use groupby on the relevant column and use sum() on the same to find out the nuumber of releases in a year/genre.  "
   ]
  },
  {
   "cell_type": "code",
   "execution_count": 179,
   "metadata": {},
   "outputs": [
    {
     "data": {
      "text/html": [
       "<div>\n",
       "<style scoped>\n",
       "    .dataframe tbody tr th:only-of-type {\n",
       "        vertical-align: middle;\n",
       "    }\n",
       "\n",
       "    .dataframe tbody tr th {\n",
       "        vertical-align: top;\n",
       "    }\n",
       "\n",
       "    .dataframe thead th {\n",
       "        text-align: right;\n",
       "    }\n",
       "</style>\n",
       "<table border=\"1\" class=\"dataframe\">\n",
       "  <thead>\n",
       "    <tr style=\"text-align: right;\">\n",
       "      <th></th>\n",
       "      <th>user id</th>\n",
       "      <th>movie id</th>\n",
       "      <th>rating</th>\n",
       "      <th>timestamp</th>\n",
       "      <th>movie title</th>\n",
       "      <th>release date</th>\n",
       "      <th>unknown</th>\n",
       "      <th>Action</th>\n",
       "      <th>Adventure</th>\n",
       "      <th>Animation</th>\n",
       "      <th>...</th>\n",
       "      <th>Romance</th>\n",
       "      <th>Sci-Fi</th>\n",
       "      <th>Thriller</th>\n",
       "      <th>War</th>\n",
       "      <th>Western</th>\n",
       "      <th>age</th>\n",
       "      <th>gender</th>\n",
       "      <th>occupation</th>\n",
       "      <th>zip code</th>\n",
       "      <th>year</th>\n",
       "    </tr>\n",
       "  </thead>\n",
       "  <tbody>\n",
       "    <tr>\n",
       "      <th>0</th>\n",
       "      <td>196</td>\n",
       "      <td>242</td>\n",
       "      <td>3</td>\n",
       "      <td>881250949</td>\n",
       "      <td>Kolya</td>\n",
       "      <td>24-Jan-1997</td>\n",
       "      <td>0.0</td>\n",
       "      <td>0.0</td>\n",
       "      <td>0.0</td>\n",
       "      <td>0.0</td>\n",
       "      <td>...</td>\n",
       "      <td>0.0</td>\n",
       "      <td>0.0</td>\n",
       "      <td>0.0</td>\n",
       "      <td>0.0</td>\n",
       "      <td>0.0</td>\n",
       "      <td>49</td>\n",
       "      <td>M</td>\n",
       "      <td>writer</td>\n",
       "      <td>55105</td>\n",
       "      <td>1997.0</td>\n",
       "    </tr>\n",
       "    <tr>\n",
       "      <th>1</th>\n",
       "      <td>196</td>\n",
       "      <td>257</td>\n",
       "      <td>2</td>\n",
       "      <td>881251577</td>\n",
       "      <td>Men in Black</td>\n",
       "      <td>04-Jul-1997</td>\n",
       "      <td>0.0</td>\n",
       "      <td>1.0</td>\n",
       "      <td>1.0</td>\n",
       "      <td>0.0</td>\n",
       "      <td>...</td>\n",
       "      <td>0.0</td>\n",
       "      <td>1.0</td>\n",
       "      <td>0.0</td>\n",
       "      <td>0.0</td>\n",
       "      <td>0.0</td>\n",
       "      <td>49</td>\n",
       "      <td>M</td>\n",
       "      <td>writer</td>\n",
       "      <td>55105</td>\n",
       "      <td>1997.0</td>\n",
       "    </tr>\n",
       "    <tr>\n",
       "      <th>2</th>\n",
       "      <td>196</td>\n",
       "      <td>111</td>\n",
       "      <td>4</td>\n",
       "      <td>881251793</td>\n",
       "      <td>Truth About Cats &amp; Dogs, The</td>\n",
       "      <td>26-Apr-1996</td>\n",
       "      <td>0.0</td>\n",
       "      <td>0.0</td>\n",
       "      <td>0.0</td>\n",
       "      <td>0.0</td>\n",
       "      <td>...</td>\n",
       "      <td>1.0</td>\n",
       "      <td>0.0</td>\n",
       "      <td>0.0</td>\n",
       "      <td>0.0</td>\n",
       "      <td>0.0</td>\n",
       "      <td>49</td>\n",
       "      <td>M</td>\n",
       "      <td>writer</td>\n",
       "      <td>55105</td>\n",
       "      <td>1996.0</td>\n",
       "    </tr>\n",
       "    <tr>\n",
       "      <th>3</th>\n",
       "      <td>196</td>\n",
       "      <td>25</td>\n",
       "      <td>4</td>\n",
       "      <td>881251955</td>\n",
       "      <td>Birdcage, The</td>\n",
       "      <td>08-Mar-1996</td>\n",
       "      <td>0.0</td>\n",
       "      <td>0.0</td>\n",
       "      <td>0.0</td>\n",
       "      <td>0.0</td>\n",
       "      <td>...</td>\n",
       "      <td>0.0</td>\n",
       "      <td>0.0</td>\n",
       "      <td>0.0</td>\n",
       "      <td>0.0</td>\n",
       "      <td>0.0</td>\n",
       "      <td>49</td>\n",
       "      <td>M</td>\n",
       "      <td>writer</td>\n",
       "      <td>55105</td>\n",
       "      <td>1996.0</td>\n",
       "    </tr>\n",
       "    <tr>\n",
       "      <th>4</th>\n",
       "      <td>196</td>\n",
       "      <td>382</td>\n",
       "      <td>4</td>\n",
       "      <td>881251843</td>\n",
       "      <td>Adventures of Priscilla, Queen of the Desert, ...</td>\n",
       "      <td>01-Jan-1994</td>\n",
       "      <td>0.0</td>\n",
       "      <td>0.0</td>\n",
       "      <td>0.0</td>\n",
       "      <td>0.0</td>\n",
       "      <td>...</td>\n",
       "      <td>0.0</td>\n",
       "      <td>0.0</td>\n",
       "      <td>0.0</td>\n",
       "      <td>0.0</td>\n",
       "      <td>0.0</td>\n",
       "      <td>49</td>\n",
       "      <td>M</td>\n",
       "      <td>writer</td>\n",
       "      <td>55105</td>\n",
       "      <td>1994.0</td>\n",
       "    </tr>\n",
       "  </tbody>\n",
       "</table>\n",
       "<p>5 rows × 30 columns</p>\n",
       "</div>"
      ],
      "text/plain": [
       "   user id  movie id  rating  timestamp  \\\n",
       "0      196       242       3  881250949   \n",
       "1      196       257       2  881251577   \n",
       "2      196       111       4  881251793   \n",
       "3      196        25       4  881251955   \n",
       "4      196       382       4  881251843   \n",
       "\n",
       "                                         movie title release date  unknown  \\\n",
       "0                                             Kolya   24-Jan-1997      0.0   \n",
       "1                                      Men in Black   04-Jul-1997      0.0   \n",
       "2                      Truth About Cats & Dogs, The   26-Apr-1996      0.0   \n",
       "3                                     Birdcage, The   08-Mar-1996      0.0   \n",
       "4  Adventures of Priscilla, Queen of the Desert, ...  01-Jan-1994      0.0   \n",
       "\n",
       "   Action  Adventure  Animation  ...  Romance  Sci-Fi  Thriller  War  Western  \\\n",
       "0     0.0        0.0        0.0  ...      0.0     0.0       0.0  0.0      0.0   \n",
       "1     1.0        1.0        0.0  ...      0.0     1.0       0.0  0.0      0.0   \n",
       "2     0.0        0.0        0.0  ...      1.0     0.0       0.0  0.0      0.0   \n",
       "3     0.0        0.0        0.0  ...      0.0     0.0       0.0  0.0      0.0   \n",
       "4     0.0        0.0        0.0  ...      0.0     0.0       0.0  0.0      0.0   \n",
       "\n",
       "   age  gender  occupation  zip code    year  \n",
       "0   49       M      writer     55105  1997.0  \n",
       "1   49       M      writer     55105  1997.0  \n",
       "2   49       M      writer     55105  1996.0  \n",
       "3   49       M      writer     55105  1996.0  \n",
       "4   49       M      writer     55105  1994.0  \n",
       "\n",
       "[5 rows x 30 columns]"
      ]
     },
     "execution_count": 179,
     "metadata": {},
     "output_type": "execute_result"
    }
   ],
   "source": [
    "#Your answer here\n",
    "All_Data.head()"
   ]
  },
  {
   "cell_type": "code",
   "execution_count": 189,
   "metadata": {},
   "outputs": [
    {
     "data": {
      "text/plain": [
       "1998.0"
      ]
     },
     "execution_count": 189,
     "metadata": {},
     "output_type": "execute_result"
    }
   ],
   "source": [
    "All_Data.tail()\n",
    "All_Data['year'].max()"
   ]
  },
  {
   "cell_type": "code",
   "execution_count": 180,
   "metadata": {},
   "outputs": [],
   "source": [
    "#All_Data.groupby(['year','Sci-Fi']).co\n",
    "#All_Data.groupby(['year']).sum()\n",
    "#grouped_year['Action'].sum()\n",
    "#grouped_year['Animation'].sum()\n",
    "#print(All_Data.groupby(['Action']))\n",
    "#sns.barplot(All_Data['year'], All_Data['Action'], ax=ax)#, hue=auto['fuel_type']);\n",
    "#sns.distplot(grouped_year['Action'], kde=False, rug=True);\n",
    "#grouped_year.set_index('year',inplace=True)"
   ]
  },
  {
   "cell_type": "code",
   "execution_count": 181,
   "metadata": {},
   "outputs": [],
   "source": [
    "#grouped_year = All_Data.groupby(['year']).sum()\n",
    "#print(grouped_year)\n",
    "#fig, ax = plt.subplots()\n",
    "#fig.set_size_inches(23.5,10)\n",
    "#sns.barplot(grouped_year.index, grouped_year['Action'],ax=ax)\n",
    "#print(grouped_year.index)\n",
    "#plt.xlabel('year')\n",
    "#plt.ylabel('Action')\n",
    "#plt.title('Count plot of the Action through years')"
   ]
  },
  {
   "cell_type": "code",
   "execution_count": 182,
   "metadata": {},
   "outputs": [],
   "source": [
    "#grouped_year.columns[5:22]\n",
    "#print(grouped_year.columns[5:22])\n",
    "#grouped_year.columns[5:22][0]\n",
    "#for col in grouped_year.columns[5:6]:\n",
    "    #print(col)\n",
    "    #col =\"'\"+col+\"'\"\n",
    "    #print(col)\n",
    "    #sns.barplot(grouped_year.index, grouped_year[col],ax=ax)\n",
    "    #plt.xlabel('year')\n",
    "    #plt.ylabel(i)\n",
    "    #plt.title('Count plot of the',i)"
   ]
  },
  {
   "cell_type": "code",
   "execution_count": 183,
   "metadata": {},
   "outputs": [],
   "source": [
    "#print(grouped_year.index)\n",
    "\n",
    "#sns.barplot(grouped_year.index, grouped_year['Adventure'],ax=ax)\n",
    "#plt.xlabel('year')\n",
    "#plt.ylabel('Action')\n",
    "#plt.title('Count plot of the Action through years')"
   ]
  },
  {
   "cell_type": "code",
   "execution_count": 184,
   "metadata": {},
   "outputs": [],
   "source": [
    "#sns.pairplot(grouped_year);"
   ]
  },
  {
   "cell_type": "code",
   "execution_count": null,
   "metadata": {},
   "outputs": [],
   "source": [
    "#grouped=All_Data.groupby(['year','Action']).sum().reset_index()\n",
    "#print(grouped)\n",
    "#sns.barplot(grouped['year'],grouped['Action']);\n",
    "#All_Data.groupby(['year','Action'],as_index = False).sum().pivot('year','Action').fillna(0)\n",
    "#groupedyear.set_index('year',inplace=True)\n",
    "#print(groupedyear)\n",
    "######################################################################"
   ]
  },
  {
   "cell_type": "code",
   "execution_count": 220,
   "metadata": {},
   "outputs": [],
   "source": [
    "##worked for single plot###\n",
    "#groupedyear=All_Data.groupby(['year'])['Action'].sum().reset_index()\n",
    "#print(groupedyear)\n",
    "#fig, ax = plt.subplots()\n",
    "#fig.set_size_inches(23.5,15)\n",
    "#sns.barplot(groupedyear['year'],groupedyear['Action'],ax=ax)\n",
    "#plt.xlabel('year')\n",
    "#plt.ylabel('Action releases')\n",
    "#plt.title('Count plot of the Action releases through years')"
   ]
  },
  {
   "cell_type": "code",
   "execution_count": 224,
   "metadata": {},
   "outputs": [
    {
     "name": "stdout",
     "output_type": "stream",
     "text": [
      "Index(['Action', 'Adventure', 'Animation', 'Childrens', 'Comedy', 'Crime',\n",
      "       'Documentary', 'Drama', 'Fantasy', 'Film-Noir', 'Horror', 'Musical',\n",
      "       'Mystery', 'Romance', 'Sci-Fi', 'Thriller', 'War'],\n",
      "      dtype='object')\n"
     ]
    },
    {
     "name": "stderr",
     "output_type": "stream",
     "text": [
      "C:\\Users\\hassa\\anaconda3\\lib\\site-packages\\ipykernel_launcher.py:7: RuntimeWarning: More than 20 figures have been opened. Figures created through the pyplot interface (`matplotlib.pyplot.figure`) are retained until explicitly closed and may consume too much memory. (To control this warning, see the rcParam `figure.max_open_warning`).\n",
      "  import sys\n",
      "C:\\Users\\hassa\\anaconda3\\lib\\site-packages\\ipykernel_launcher.py:14: RuntimeWarning: More than 20 figures have been opened. Figures created through the pyplot interface (`matplotlib.pyplot.figure`) are retained until explicitly closed and may consume too much memory. (To control this warning, see the rcParam `figure.max_open_warning`).\n",
      "  \n",
      "C:\\Users\\hassa\\anaconda3\\lib\\site-packages\\ipykernel_launcher.py:7: RuntimeWarning: More than 20 figures have been opened. Figures created through the pyplot interface (`matplotlib.pyplot.figure`) are retained until explicitly closed and may consume too much memory. (To control this warning, see the rcParam `figure.max_open_warning`).\n",
      "  import sys\n",
      "C:\\Users\\hassa\\anaconda3\\lib\\site-packages\\ipykernel_launcher.py:14: RuntimeWarning: More than 20 figures have been opened. Figures created through the pyplot interface (`matplotlib.pyplot.figure`) are retained until explicitly closed and may consume too much memory. (To control this warning, see the rcParam `figure.max_open_warning`).\n",
      "  \n",
      "C:\\Users\\hassa\\anaconda3\\lib\\site-packages\\ipykernel_launcher.py:7: RuntimeWarning: More than 20 figures have been opened. Figures created through the pyplot interface (`matplotlib.pyplot.figure`) are retained until explicitly closed and may consume too much memory. (To control this warning, see the rcParam `figure.max_open_warning`).\n",
      "  import sys\n",
      "C:\\Users\\hassa\\anaconda3\\lib\\site-packages\\ipykernel_launcher.py:14: RuntimeWarning: More than 20 figures have been opened. Figures created through the pyplot interface (`matplotlib.pyplot.figure`) are retained until explicitly closed and may consume too much memory. (To control this warning, see the rcParam `figure.max_open_warning`).\n",
      "  \n",
      "C:\\Users\\hassa\\anaconda3\\lib\\site-packages\\ipykernel_launcher.py:7: RuntimeWarning: More than 20 figures have been opened. Figures created through the pyplot interface (`matplotlib.pyplot.figure`) are retained until explicitly closed and may consume too much memory. (To control this warning, see the rcParam `figure.max_open_warning`).\n",
      "  import sys\n",
      "C:\\Users\\hassa\\anaconda3\\lib\\site-packages\\ipykernel_launcher.py:14: RuntimeWarning: More than 20 figures have been opened. Figures created through the pyplot interface (`matplotlib.pyplot.figure`) are retained until explicitly closed and may consume too much memory. (To control this warning, see the rcParam `figure.max_open_warning`).\n",
      "  \n",
      "C:\\Users\\hassa\\anaconda3\\lib\\site-packages\\ipykernel_launcher.py:7: RuntimeWarning: More than 20 figures have been opened. Figures created through the pyplot interface (`matplotlib.pyplot.figure`) are retained until explicitly closed and may consume too much memory. (To control this warning, see the rcParam `figure.max_open_warning`).\n",
      "  import sys\n",
      "C:\\Users\\hassa\\anaconda3\\lib\\site-packages\\ipykernel_launcher.py:14: RuntimeWarning: More than 20 figures have been opened. Figures created through the pyplot interface (`matplotlib.pyplot.figure`) are retained until explicitly closed and may consume too much memory. (To control this warning, see the rcParam `figure.max_open_warning`).\n",
      "  \n",
      "C:\\Users\\hassa\\anaconda3\\lib\\site-packages\\ipykernel_launcher.py:7: RuntimeWarning: More than 20 figures have been opened. Figures created through the pyplot interface (`matplotlib.pyplot.figure`) are retained until explicitly closed and may consume too much memory. (To control this warning, see the rcParam `figure.max_open_warning`).\n",
      "  import sys\n",
      "C:\\Users\\hassa\\anaconda3\\lib\\site-packages\\ipykernel_launcher.py:14: RuntimeWarning: More than 20 figures have been opened. Figures created through the pyplot interface (`matplotlib.pyplot.figure`) are retained until explicitly closed and may consume too much memory. (To control this warning, see the rcParam `figure.max_open_warning`).\n",
      "  \n",
      "C:\\Users\\hassa\\anaconda3\\lib\\site-packages\\ipykernel_launcher.py:7: RuntimeWarning: More than 20 figures have been opened. Figures created through the pyplot interface (`matplotlib.pyplot.figure`) are retained until explicitly closed and may consume too much memory. (To control this warning, see the rcParam `figure.max_open_warning`).\n",
      "  import sys\n",
      "C:\\Users\\hassa\\anaconda3\\lib\\site-packages\\ipykernel_launcher.py:14: RuntimeWarning: More than 20 figures have been opened. Figures created through the pyplot interface (`matplotlib.pyplot.figure`) are retained until explicitly closed and may consume too much memory. (To control this warning, see the rcParam `figure.max_open_warning`).\n",
      "  \n"
     ]
    },
    {
     "data": {
      "image/png": "[encoded data removed]",
      "text/plain": [
       "<Figure size 1692x1080 with 1 Axes>"
      ]
     },
     "metadata": {
      "needs_background": "light"
     },
     "output_type": "display_data"
    },
    {
     "data": {
      "text/plain": [
       "<Figure size 432x288 with 0 Axes>"
      ]
     },
     "metadata": {},
     "output_type": "display_data"
    },
    {
     "data": {
      "image/png": "[encoded data removed]",
      "text/plain": [
       "<Figure size 1692x1080 with 1 Axes>"
      ]
     },
     "metadata": {
      "needs_background": "light"
     },
     "output_type": "display_data"
    },
    {
     "data": {
      "text/plain": [
       "<Figure size 432x288 with 0 Axes>"
      ]
     },
     "metadata": {},
     "output_type": "display_data"
    },
    {
     "data": {
      "image/png": "[encoded data removed]",
      "text/plain": [
       "<Figure size 1692x1080 with 1 Axes>"
      ]
     },
     "metadata": {
      "needs_background": "light"
     },
     "output_type": "display_data"
    },
    {
     "data": {
      "text/plain": [
       "<Figure size 432x288 with 0 Axes>"
      ]
     },
     "metadata": {},
     "output_type": "display_data"
    },
    {
     "data": {
      "image/png": "[encoded data removed]",
      "text/plain": [
       "<Figure size 1692x1080 with 1 Axes>"
      ]
     },
     "metadata": {
      "needs_background": "light"
     },
     "output_type": "display_data"
    },
    {
     "data": {
      "text/plain": [
       "<Figure size 432x288 with 0 Axes>"
      ]
     },
     "metadata": {},
     "output_type": "display_data"
    },
    {
     "data": {
      "image/png": "[encoded data removed]",
      "text/plain": [
       "<Figure size 1692x1080 with 1 Axes>"
      ]
     },
     "metadata": {
      "needs_background": "light"
     },
     "output_type": "display_data"
    },
    {
     "data": {
      "text/plain": [
       "<Figure size 432x288 with 0 Axes>"
      ]
     },
     "metadata": {},
     "output_type": "display_data"
    },
    {
     "data": {
      "image/png": "[encoded data removed]",
      "text/plain": [
       "<Figure size 1692x1080 with 1 Axes>"
      ]
     },
     "metadata": {
      "needs_background": "light"
     },
     "output_type": "display_data"
    },
    {
     "data": {
      "text/plain": [
       "<Figure size 432x288 with 0 Axes>"
      ]
     },
     "metadata": {},
     "output_type": "display_data"
    },
    {
     "data": {
      "image/png": "[encoded data removed]",
      "text/plain": [
       "<Figure size 1692x1080 with 1 Axes>"
      ]
     },
     "metadata": {
      "needs_background": "light"
     },
     "output_type": "display_data"
    },
    {
     "data": {
      "text/plain": [
       "<Figure size 432x288 with 0 Axes>"
      ]
     },
     "metadata": {},
     "output_type": "display_data"
    },
    {
     "data": {
      "image/png": "[encoded data removed]",
      "text/plain": [
       "<Figure size 1692x1080 with 1 Axes>"
      ]
     },
     "metadata": {
      "needs_background": "light"
     },
     "output_type": "display_data"
    },
    {
     "data": {
      "text/plain": [
       "<Figure size 432x288 with 0 Axes>"
      ]
     },
     "metadata": {},
     "output_type": "display_data"
    },
    {
     "data": {
      "image/png": "[encoded data removed]",
      "text/plain": [
       "<Figure size 1692x1080 with 1 Axes>"
      ]
     },
     "metadata": {
      "needs_background": "light"
     },
     "output_type": "display_data"
    },
    {
     "data": {
      "text/plain": [
       "<Figure size 432x288 with 0 Axes>"
      ]
     },
     "metadata": {},
     "output_type": "display_data"
    },
    {
     "data": {
      "image/png": "[encoded data removed]",
      "text/plain": [
       "<Figure size 1692x1080 with 1 Axes>"
      ]
     },
     "metadata": {
      "needs_background": "light"
     },
     "output_type": "display_data"
    },
    {
     "data": {
      "text/plain": [
       "<Figure size 432x288 with 0 Axes>"
      ]
     },
     "metadata": {},
     "output_type": "display_data"
    },
    {
     "data": {
      "image/png": "[encoded data removed]",
      "text/plain": [
       "<Figure size 1692x1080 with 1 Axes>"
      ]
     },
     "metadata": {
      "needs_background": "light"
     },
     "output_type": "display_data"
    },
    {
     "data": {
      "text/plain": [
       "<Figure size 432x288 with 0 Axes>"
      ]
     },
     "metadata": {},
     "output_type": "display_data"
    },
    {
     "data": {
      "image/png": "[encoded data removed]",
      "text/plain": [
       "<Figure size 1692x1080 with 1 Axes>"
      ]
     },
     "metadata": {
      "needs_background": "light"
     },
     "output_type": "display_data"
    },
    {
     "data": {
      "text/plain": [
       "<Figure size 432x288 with 0 Axes>"
      ]
     },
     "metadata": {},
     "output_type": "display_data"
    },
    {
     "data": {
      "image/png": "[encoded data removed]",
      "text/plain": [
       "<Figure size 1692x1080 with 1 Axes>"
      ]
     },
     "metadata": {
      "needs_background": "light"
     },
     "output_type": "display_data"
    },
    {
     "data": {
      "text/plain": [
       "<Figure size 432x288 with 0 Axes>"
      ]
     },
     "metadata": {},
     "output_type": "display_data"
    },
    {
     "data": {
      "image/png": "[encoded data removed]",
      "text/plain": [
       "<Figure size 1692x1080 with 1 Axes>"
      ]
     },
     "metadata": {
      "needs_background": "light"
     },
     "output_type": "display_data"
    },
    {
     "data": {
      "text/plain": [
       "<Figure size 432x288 with 0 Axes>"
      ]
     },
     "metadata": {},
     "output_type": "display_data"
    },
    {
     "data": {
      "image/png": "[encoded data removed]",
      "text/plain": [
       "<Figure size 1692x1080 with 1 Axes>"
      ]
     },
     "metadata": {
      "needs_background": "light"
     },
     "output_type": "display_data"
    },
    {
     "data": {
      "text/plain": [
       "<Figure size 432x288 with 0 Axes>"
      ]
     },
     "metadata": {},
     "output_type": "display_data"
    },
    {
     "data": {
      "image/png": "[encoded data removed]",
      "text/plain": [
       "<Figure size 1692x1080 with 1 Axes>"
      ]
     },
     "metadata": {
      "needs_background": "light"
     },
     "output_type": "display_data"
    },
    {
     "data": {
      "text/plain": [
       "<Figure size 432x288 with 0 Axes>"
      ]
     },
     "metadata": {},
     "output_type": "display_data"
    },
    {
     "data": {
      "image/png": "[encoded data removed]",
      "text/plain": [
       "<Figure size 1692x1080 with 1 Axes>"
      ]
     },
     "metadata": {
      "needs_background": "light"
     },
     "output_type": "display_data"
    },
    {
     "data": {
      "text/plain": [
       "<Figure size 432x288 with 0 Axes>"
      ]
     },
     "metadata": {},
     "output_type": "display_data"
    }
   ],
   "source": [
    "genre_listAll = All_Data.columns[7:24]\n",
    "print(genre_listAll)\n",
    "for i in np.arange(7,24):\n",
    "    #print(All_Data.columns[i])\n",
    "    groupedyeari=All_Data.groupby(['year'])[All_Data.columns[i]].sum().reset_index()\n",
    "    #print(groupedyeari)\n",
    "    fig, ax = plt.subplots()\n",
    "    fig.set_size_inches(23.5,15)\n",
    "    sns.barplot(groupedyeari['year'],groupedyeari[All_Data.columns[i]],ax=ax)\n",
    "    plt.xlabel('year')\n",
    "    plt.ylabel(All_Data.columns[i])\n",
    "    m=0\n",
    "    n=0\n",
    "    plt.subplots(m,n)\n",
    "    m=+0\n",
    "    n=+0\n",
    "#plt.title('Count plot of the Action releases through years')"
   ]
  },
  {
   "cell_type": "markdown",
   "metadata": {},
   "source": [
    "### 9. Find the top 25 movies, each having a minimum of 100 ratings - 10 marks\n",
    "\n",
    "Hint : \n",
    "1. First find the movies that have more than 100 ratings(use merge, groupby and count). Extract the movie titles in a list.\n",
    "2. Find the average rating of all the movies and sort them in the descending order. You will have to use the .merge() function to reach to a data set through which you can get the names and the average rating.\n",
    "3. Use isin(list obtained from 1) to filter out the movies which have more than 100 ratings.\n",
    "\n",
    "Note: This question will need you to research about groupby and apply your findings. You can find more on groupby on https://realpython.com/pandas-groupby/."
   ]
  },
  {
   "cell_type": "code",
   "execution_count": 264,
   "metadata": {},
   "outputs": [],
   "source": [
    "#sns.countplot(All_Data['movie title'])\n",
    "#print(All_Data['rating'].sum()>=100)\n",
    "#print('')\n",
    "#print(All_Data[All_Data['rating']>=100.0])"
   ]
  },
  {
   "cell_type": "code",
   "execution_count": 265,
   "metadata": {},
   "outputs": [
    {
     "name": "stdout",
     "output_type": "stream",
     "text": [
      "1657\n"
     ]
    }
   ],
   "source": [
    "#your answer here\n",
    "print(All_Data['movie title'].nunique())"
   ]
  },
  {
   "cell_type": "code",
   "execution_count": 266,
   "metadata": {},
   "outputs": [
    {
     "name": "stdout",
     "output_type": "stream",
     "text": [
      "                          movie title  rating\n",
      "0                 'Til There Was You       21\n",
      "1                              1-900       13\n",
      "2                     101 Dalmatians      317\n",
      "3                       12 Angry Men      543\n",
      "4                                187      124\n",
      "...                               ...     ...\n",
      "1652                      Young Guns      324\n",
      "1653                   Young Guns II      122\n",
      "1654  Young Poisoner's Handbook, The      137\n",
      "1655                Zeus and Roxanne       13\n",
      "1656     Á köldum klaka (Cold Fever)        3\n",
      "\n",
      "[1657 rows x 2 columns]\n",
      "\n",
      "                          movie title  rating\n",
      "2                     101 Dalmatians      317\n",
      "3                       12 Angry Men      543\n",
      "4                                187      124\n",
      "5               2 Days in the Valley      300\n",
      "6       20,000 Leagues Under the Sea      252\n",
      "...                               ...     ...\n",
      "1647                      Wyatt Earp      155\n",
      "1651              Young Frankenstein      789\n",
      "1652                      Young Guns      324\n",
      "1653                   Young Guns II      122\n",
      "1654  Young Poisoner's Handbook, The      137\n",
      "\n",
      "[767 rows x 2 columns]\n",
      "\n",
      "1394    2541\n",
      "497     2111\n",
      "1233    2032\n",
      "332     1936\n",
      "1204    1786\n",
      "        ... \n",
      "782      101\n",
      "978      101\n",
      "683      100\n",
      "297      100\n",
      "1588     100\n",
      "Name: rating, Length: 767, dtype: int64\n",
      "\n",
      "                     movie title  rating\n",
      "1394                  Star Wars     2541\n",
      "497                       Fargo     2111\n",
      "1233         Return of the Jedi     2032\n",
      "332                     Contact     1936\n",
      "1204    Raiders of the Lost Ark     1786\n",
      "611              Godfather, The     1769\n",
      "459        English Patient, The     1759\n",
      "1517                  Toy Story     1753\n",
      "1325  Silence of the Lambs, The     1673\n",
      "1281                     Scream     1645\n",
      "1189               Pulp Fiction     1600\n",
      "32                Air Force One     1565\n",
      "455    Empire Strikes Back, The     1543\n",
      "859                   Liar Liar     1531\n",
      "1537             Twelve Monkeys     1489\n",
      "1494                    Titanic     1486\n",
      "743      Independence Day (ID4)     1475\n",
      "292                 Chasing Amy     1455\n",
      "779               Jerry Maguire     1425\n",
      "1250                  Rock, The     1396\n",
      "569               Fugitive, The     1359\n",
      "1177        Princess Bride, The     1352\n",
      "113          Back to the Future     1342\n",
      "1390   Star Trek: First Contact     1336\n",
      "1278           Schindler's List     1331\n"
     ]
    }
   ],
   "source": [
    "groupedmovieT=All_Data.groupby(['movie title'])['rating'].sum().reset_index()\n",
    "print(groupedmovieT)\n",
    "print('')\n",
    "#print(groupedmovieT[groupedmovieT['rating']>=100.0])\n",
    "groupedmovieT100 = groupedmovieT[groupedmovieT['rating']>=100.0]\n",
    "print(groupedmovieT100)\n",
    "print('')\n",
    "print(groupedmovieT100['rating'].sort_values(ascending=False))\n",
    "sorted_top=groupedmovieT100.sort_values(by=['rating'],ascending=False)\n",
    "print('')\n",
    "###The top 25 movies###\n",
    "print(sorted_top.head(25))"
   ]
  },
  {
   "cell_type": "code",
   "execution_count": 267,
   "metadata": {},
   "outputs": [],
   "source": [
    "#sns.distplot(All_Data['Action'], kde=False, rug=True, hue=All_Data['gender']);"
   ]
  },
  {
   "cell_type": "markdown",
   "metadata": {},
   "source": [
    "### 10. See gender distribution across different genres check for the validity of the below statements - 10 marks\n",
    "\n",
    "* Men watch more drama than women\n",
    "* Women watch more Sci-Fi than men\n",
    "* Men watch more Romance than women\n"
   ]
  },
  {
   "cell_type": "markdown",
   "metadata": {},
   "source": [
    "1. There is no need to conduct statistical tests around this. Just compare the percentages and comment on the validity of the above statements.\n",
    "\n",
    "2. you might want ot use the .sum(), .div() function here.\n",
    "3. Use number of ratings to validate the numbers. For example, if out of 4000 ratings received by women, 3000 are for drama, we will assume that 75% of the women watch drama."
   ]
  },
  {
   "cell_type": "code",
   "execution_count": 284,
   "metadata": {},
   "outputs": [
    {
     "name": "stdout",
     "output_type": "stream",
     "text": [
      "  gender    Drama\n",
      "0      F  11008.0\n",
      "1      M  28887.0\n",
      "Men watch more drama than women\n"
     ]
    }
   ],
   "source": [
    "groupedgender_Drama=All_Data.groupby(['gender'])['Drama'].sum().reset_index()\n",
    "print(groupedgender_Drama)\n",
    "#print(groupedgender_Drama['Drama'][0])\n",
    "if groupedgender_Drama['Drama'][0]< groupedgender_Drama['Drama'][1]:\n",
    "   print('Men watch more drama than women')\n",
    "else:\n",
    "   print('Men watch less drama than women')\n",
    "        "
   ]
  },
  {
   "cell_type": "code",
   "execution_count": 292,
   "metadata": {
    "scrolled": true
   },
   "outputs": [
    {
     "name": "stdout",
     "output_type": "stream",
     "text": [
      "  gender   Sci-Fi\n",
      "0      F   2629.0\n",
      "1      M  10101.0\n",
      "women watch less Sci_Fi than men\n"
     ]
    }
   ],
   "source": [
    "groupedgender_Sci_Fi=All_Data.groupby(['gender'])['Sci-Fi'].sum().reset_index()\n",
    "print(groupedgender_Sci_Fi)\n",
    "if groupedgender_Sci_Fi['Sci-Fi'][0]>groupedgender_Sci_Fi['Sci-Fi'][1]:\n",
    "    print('women watch more Sci_Fi than men')\n",
    "else:\n",
    "    print('women watch less Sci_Fi than men')"
   ]
  },
  {
   "cell_type": "code",
   "execution_count": 293,
   "metadata": {},
   "outputs": [
    {
     "name": "stdout",
     "output_type": "stream",
     "text": [
      "  gender  Romance\n",
      "0      F   5858.0\n",
      "1      M  13603.0\n",
      "women watch less Romance than men\n"
     ]
    }
   ],
   "source": [
    "groupedgender_Romance=All_Data.groupby(['gender'])['Romance'].sum().reset_index()\n",
    "print(groupedgender_Romance)\n",
    "if groupedgender_Romance['Romance'][0]<groupedgender_Romance['Romance'][1]:\n",
    "    print('women watch less Romance than men')\n",
    "else:\n",
    "    print('women watch more Romance than men')"
   ]
  },
  {
   "cell_type": "markdown",
   "metadata": {},
   "source": [
    "#### Conclusion:\n",
    "\n"
   ]
  },
  {
   "cell_type": "code",
   "execution_count": null,
   "metadata": {},
   "outputs": [],
   "source": [
    "#Men watch more drama than women\n",
    "#women watch less Sci_Fi than men\n",
    "#women watch less Romance than men"
   ]
  }
 ],
 "metadata": {
  "kernelspec": {
   "display_name": "Python 3",
   "language": "python",
   "name": "python3"
  },
  "language_info": {
   "codemirror_mode": {
    "name": "ipython",
    "version": 3
   },
   "file_extension": ".py",
   "mimetype": "text/x-python",
   "name": "python",
   "nbconvert_exporter": "python",
   "pygments_lexer": "ipython3",
   "version": "3.7.6"
  }
 },
 "nbformat": 4,
 "nbformat_minor": 2
}
